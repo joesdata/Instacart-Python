{
 "cells": [
  {
   "cell_type": "markdown",
   "id": "0049febc",
   "metadata": {},
   "source": [
    "# Import libraries"
   ]
  },
  {
   "cell_type": "code",
   "execution_count": 1,
   "id": "5538e010",
   "metadata": {},
   "outputs": [],
   "source": [
    "# import libraries\n",
    "import pandas as pd\n",
    "import numpy as np\n",
    "import os"
   ]
  },
  {
   "cell_type": "markdown",
   "id": "45316a4d",
   "metadata": {},
   "source": [
    "# Data types"
   ]
  },
  {
   "cell_type": "markdown",
   "id": "066cd80d",
   "metadata": {},
   "source": [
    "Code 3 different ways of reaching a result of 100 by adding or subtracting numeric variables."
   ]
  },
  {
   "cell_type": "code",
   "execution_count": 2,
   "id": "b112bcd7",
   "metadata": {},
   "outputs": [],
   "source": [
    "a = 50"
   ]
  },
  {
   "cell_type": "code",
   "execution_count": 10,
   "id": "24e4766d",
   "metadata": {},
   "outputs": [],
   "source": [
    "b = 200"
   ]
  },
  {
   "cell_type": "code",
   "execution_count": 11,
   "id": "55f500ae",
   "metadata": {},
   "outputs": [],
   "source": [
    "c = 25"
   ]
  },
  {
   "cell_type": "code",
   "execution_count": 3,
   "id": "2b4864be",
   "metadata": {},
   "outputs": [
    {
     "data": {
      "text/plain": [
       "100"
      ]
     },
     "execution_count": 3,
     "metadata": {},
     "output_type": "execute_result"
    }
   ],
   "source": [
    "a + a"
   ]
  },
  {
   "cell_type": "code",
   "execution_count": 5,
   "id": "9181b804",
   "metadata": {},
   "outputs": [
    {
     "data": {
      "text/plain": [
       "100"
      ]
     },
     "execution_count": 5,
     "metadata": {},
     "output_type": "execute_result"
    }
   ],
   "source": [
    "b - a * 2"
   ]
  },
  {
   "cell_type": "code",
   "execution_count": 6,
   "id": "52c84977",
   "metadata": {},
   "outputs": [
    {
     "data": {
      "text/plain": [
       "100"
      ]
     },
     "execution_count": 6,
     "metadata": {},
     "output_type": "execute_result"
    }
   ],
   "source": [
    "c + c + a"
   ]
  },
  {
   "cell_type": "markdown",
   "id": "5a150da7",
   "metadata": {},
   "source": [
    "Code 2 floating-point variables and divide them by each other."
   ]
  },
  {
   "cell_type": "code",
   "execution_count": 7,
   "id": "1b1a545f",
   "metadata": {},
   "outputs": [],
   "source": [
    "d = 3.25"
   ]
  },
  {
   "cell_type": "code",
   "execution_count": 8,
   "id": "4a78bd8d",
   "metadata": {},
   "outputs": [],
   "source": [
    "e = 7.53"
   ]
  },
  {
   "cell_type": "code",
   "execution_count": 9,
   "id": "dd662c8d",
   "metadata": {},
   "outputs": [
    {
     "data": {
      "text/plain": [
       "2.316923076923077"
      ]
     },
     "execution_count": 9,
     "metadata": {},
     "output_type": "execute_result"
    }
   ],
   "source": [
    "e / d"
   ]
  },
  {
   "cell_type": "markdown",
   "id": "7695bfde",
   "metadata": {},
   "source": [
    "Construct a short word made of separate strings (you’ll need to concatenate some strings!)."
   ]
  },
  {
   "cell_type": "code",
   "execution_count": 12,
   "id": "ff79f4ec",
   "metadata": {},
   "outputs": [],
   "source": [
    "f = 'no'"
   ]
  },
  {
   "cell_type": "code",
   "execution_count": 13,
   "id": "ffe055cf",
   "metadata": {},
   "outputs": [],
   "source": [
    "g = 'on'"
   ]
  },
  {
   "cell_type": "code",
   "execution_count": 14,
   "id": "173f1516",
   "metadata": {},
   "outputs": [
    {
     "data": {
      "text/plain": [
       "'noon'"
      ]
     },
     "execution_count": 14,
     "metadata": {},
     "output_type": "execute_result"
    }
   ],
   "source": [
    "f + g"
   ]
  },
  {
   "cell_type": "markdown",
   "id": "d5266c12",
   "metadata": {},
   "source": [
    "Construct 2 short sentences made of separate strings"
   ]
  },
  {
   "cell_type": "code",
   "execution_count": 15,
   "id": "3233c825",
   "metadata": {},
   "outputs": [],
   "source": [
    "h = 'Good morning, '"
   ]
  },
  {
   "cell_type": "code",
   "execution_count": 16,
   "id": "be296579",
   "metadata": {},
   "outputs": [],
   "source": [
    "i = 'Bonjour, '"
   ]
  },
  {
   "cell_type": "code",
   "execution_count": 17,
   "id": "4fb04167",
   "metadata": {},
   "outputs": [],
   "source": [
    "j = 'Buenos dias, '"
   ]
  },
  {
   "cell_type": "code",
   "execution_count": 18,
   "id": "d070605e",
   "metadata": {},
   "outputs": [],
   "source": [
    "k = 'Annie!'"
   ]
  },
  {
   "cell_type": "code",
   "execution_count": 21,
   "id": "c2a4d969",
   "metadata": {},
   "outputs": [
    {
     "data": {
      "text/plain": [
       "'Hello, Annie!'"
      ]
     },
     "execution_count": 21,
     "metadata": {},
     "output_type": "execute_result"
    }
   ],
   "source": [
    "h + k"
   ]
  },
  {
   "cell_type": "code",
   "execution_count": 20,
   "id": "047a9034",
   "metadata": {},
   "outputs": [
    {
     "data": {
      "text/plain": [
       "'Bonjour, Annie!'"
      ]
     },
     "execution_count": 20,
     "metadata": {},
     "output_type": "execute_result"
    }
   ],
   "source": [
    "i + k"
   ]
  },
  {
   "cell_type": "code",
   "execution_count": 22,
   "id": "78fd3015",
   "metadata": {},
   "outputs": [
    {
     "data": {
      "text/plain": [
       "'Buenos dias, Annie!'"
      ]
     },
     "execution_count": 22,
     "metadata": {},
     "output_type": "execute_result"
    }
   ],
   "source": [
    "j + k"
   ]
  },
  {
   "cell_type": "markdown",
   "id": "086cb3a1",
   "metadata": {},
   "source": [
    "Bonus Task\n",
    "\n",
    "At the bottom of your file, include a command that makes a string appear 100 times"
   ]
  },
  {
   "cell_type": "code",
   "execution_count": 23,
   "id": "758e7104",
   "metadata": {},
   "outputs": [
    {
     "data": {
      "text/plain": [
       "'noonnoonnoonnoonnoonnoonnoonnoonnoonnoonnoonnoonnoonnoonnoonnoonnoonnoonnoonnoonnoonnoonnoonnoonnoonnoonnoonnoonnoonnoonnoonnoonnoonnoonnoonnoonnoonnoonnoonnoonnoonnoonnoonnoonnoonnoonnoonnoonnoonnoonnoonnoonnoonnoonnoonnoonnoonnoonnoonnoonnoonnoonnoonnoonnoonnoonnoonnoonnoonnoonnoonnoonnoonnoonnoonnoonnoonnoonnoonnoonnoonnoonnoonnoonnoonnoonnoonnoonnoonnoonnoonnoonnoonnoonnoonnoonnoonnoonnoonnoon'"
      ]
     },
     "execution_count": 23,
     "metadata": {},
     "output_type": "execute_result"
    }
   ],
   "source": [
    "(f+g)*100"
   ]
  },
  {
   "cell_type": "code",
   "execution_count": null,
   "id": "8560f608",
   "metadata": {},
   "outputs": [],
   "source": []
  }
 ],
 "metadata": {
  "kernelspec": {
   "display_name": "Python 3 (ipykernel)",
   "language": "python",
   "name": "python3"
  },
  "language_info": {
   "codemirror_mode": {
    "name": "ipython",
    "version": 3
   },
   "file_extension": ".py",
   "mimetype": "text/x-python",
   "name": "python",
   "nbconvert_exporter": "python",
   "pygments_lexer": "ipython3",
   "version": "3.9.13"
  }
 },
 "nbformat": 4,
 "nbformat_minor": 5
}
