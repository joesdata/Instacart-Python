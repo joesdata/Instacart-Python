{
 "cells": [
  {
   "cell_type": "markdown",
   "id": "af368467",
   "metadata": {},
   "source": [
    "# 4.10 - Coding Etiquette & Excel Reporting"
   ]
  },
  {
   "cell_type": "markdown",
   "id": "1759b59e",
   "metadata": {},
   "source": [
    "# 1. Import libraries"
   ]
  },
  {
   "cell_type": "code",
   "execution_count": 1,
   "id": "8d8570e6",
   "metadata": {},
   "outputs": [],
   "source": [
    "import pandas as pd\n",
    "import numpy as np\n",
    "import os\n",
    "import matplotlib.pyplot as plt\n",
    "import seaborn as sns\n",
    "import scipy"
   ]
  },
  {
   "cell_type": "markdown",
   "id": "4ebb640b",
   "metadata": {},
   "source": [
    "# Import Data"
   ]
  },
  {
   "cell_type": "code",
   "execution_count": 83,
   "id": "b0fd0ba4",
   "metadata": {},
   "outputs": [],
   "source": [
    "# folder path\n",
    "path = r'C:\\Users\\jpelc\\Documents\\01-2023 Instacart Basket Analysis'\n",
    "path_visual = r'C:\\Users\\jpelc\\Documents\\01-2023 Instacart Basket Analysis\\04 Analysis\\Visualizations'"
   ]
  },
  {
   "cell_type": "code",
   "execution_count": 3,
   "id": "287654ee",
   "metadata": {},
   "outputs": [],
   "source": [
    "# importing pickle file \n",
    "ords_prods_all = pd.read_pickle(os.path.join(path, '02 Data', 'Prepared Data', 'df_ords_prods_custm.pkl'))\n",
    "df_depts = pd.read_csv(os.path.join(path, '02 Data', 'Prepared Data', 'departments_wrangled.csv'))"
   ]
  },
  {
   "cell_type": "code",
   "execution_count": 4,
   "id": "059cd703",
   "metadata": {},
   "outputs": [
    {
     "data": {
      "text/plain": [
       "(32404859, 31)"
      ]
     },
     "execution_count": 4,
     "metadata": {},
     "output_type": "execute_result"
    }
   ],
   "source": [
    "#checking imported file \n",
    "ords_prods_all.shape"
   ]
  },
  {
   "cell_type": "markdown",
   "id": "13683ed3",
   "metadata": {},
   "source": [
    "# 2. Data Security"
   ]
  },
  {
   "cell_type": "markdown",
   "id": "471c2266",
   "metadata": {},
   "source": [
    "The PII data was addressed previously, columns where removed to ensure customer privacy."
   ]
  },
  {
   "cell_type": "code",
   "execution_count": 5,
   "id": "cd8ee3eb",
   "metadata": {},
   "outputs": [
    {
     "data": {
      "text/plain": [
       "Index(['order_id', 'user_id', 'order_number', 'orders_day_of_week',\n",
       "       'order_hour_of_day', 'days_since_prior_order', 'product_id',\n",
       "       'add_to_cart_order', 'reordered', 'product_name', 'aisle_id',\n",
       "       'department_id', 'prices', '_merge', 'price_range_loc', 'busiest_day',\n",
       "       'busiest_days', 'busiest_period_of_day', 'max_order', 'loyalty_flag',\n",
       "       'average_price', 'spending_flag', 'median_prior_orders',\n",
       "       'order_frequency_flag', 'gender', 'state', 'age', 'registration_date',\n",
       "       'num_dependants', 'marital_status', 'income'],\n",
       "      dtype='object')"
      ]
     },
     "execution_count": 5,
     "metadata": {},
     "output_type": "execute_result"
    }
   ],
   "source": [
    "# checking columns\n",
    "ords_prods_all.columns"
   ]
  },
  {
   "cell_type": "markdown",
   "id": "69c7b97d",
   "metadata": {},
   "source": [
    "## 3. Comparing Customer Behavior across Geographic Regions"
   ]
  },
  {
   "cell_type": "markdown",
   "id": "73d49225",
   "metadata": {},
   "source": [
    "### Group the states into regions"
   ]
  },
  {
   "cell_type": "code",
   "execution_count": 6,
   "id": "f59533d5",
   "metadata": {},
   "outputs": [
    {
     "data": {
      "text/plain": [
       "Pennsylvania            667082\n",
       "California              659783\n",
       "Rhode Island            656913\n",
       "Georgia                 656389\n",
       "New Mexico              654494\n",
       "Arizona                 653964\n",
       "North Carolina          651900\n",
       "Oklahoma                651739\n",
       "Alaska                  648495\n",
       "Minnesota               647825\n",
       "Massachusetts           646358\n",
       "Wyoming                 644255\n",
       "Virginia                641421\n",
       "Missouri                640732\n",
       "Texas                   640394\n",
       "Colorado                639280\n",
       "Maine                   638583\n",
       "North Dakota            638491\n",
       "Alabama                 638003\n",
       "Kansas                  637538\n",
       "Louisiana               637482\n",
       "Delaware                637024\n",
       "South Carolina          636754\n",
       "Oregon                  636425\n",
       "Arkansas                636144\n",
       "Nevada                  636139\n",
       "New York                635983\n",
       "Montana                 635265\n",
       "South Dakota            633772\n",
       "Illinois                633024\n",
       "Hawaii                  632901\n",
       "Washington              632852\n",
       "Mississippi             632675\n",
       "Kentucky                632490\n",
       "Michigan                630928\n",
       "Florida                 629027\n",
       "Ohio                    628319\n",
       "Wisconsin               628108\n",
       "New Jersey              627692\n",
       "Indiana                 627282\n",
       "Maryland                626579\n",
       "Nebraska                625813\n",
       "Iowa                    625493\n",
       "Connecticut             623022\n",
       "Tennessee               617873\n",
       "New Hampshire           615378\n",
       "District of Columbia    613695\n",
       "West Virginia           612296\n",
       "Utah                    611941\n",
       "Vermont                 611725\n",
       "Idaho                   607119\n",
       "Name: state, dtype: int64"
      ]
     },
     "execution_count": 6,
     "metadata": {},
     "output_type": "execute_result"
    }
   ],
   "source": [
    "#Checking State column\n",
    "ords_prods_all['state'].value_counts(dropna = False)"
   ]
  },
  {
   "cell_type": "code",
   "execution_count": 7,
   "id": "38497a0c",
   "metadata": {},
   "outputs": [],
   "source": [
    "#Define regoinal lists\n",
    "region_NE = ['Maine', 'New Hampshire', 'Vermont', 'Massachusetts', 'Rhode Island', 'Connecticut', 'New York', 'Pennsylvania', 'New Jersey']\n",
    "region_MW = ['Wisconsin', 'Michigan', 'Illinois', 'Indiana', 'Ohio', 'North Dakota', 'South Dakota', 'Nebraska', 'Kansas', 'Minnesota', 'Iowa', 'Missouri']\n",
    "region_S = ['Delaware', 'Maryland', 'District of Columbia', 'Virginia', 'West Virginia', 'North Carolina', 'South Carolina', 'Georgia', 'Florida', 'Kentucky', 'Tennessee', 'Mississippi', 'Alabama', 'Oklahoma', 'Texas', 'Arkansas', 'Louisiana']\n",
    "region_W = ['Idaho', 'Montana', 'Wyoming', 'Nevada', 'Utah', 'Colorado', 'Arizona', 'New Mexico', 'Alaska', 'Washington', 'Oregon', 'California', 'Hawaii']"
   ]
  },
  {
   "cell_type": "code",
   "execution_count": 8,
   "id": "ca18099d",
   "metadata": {},
   "outputs": [],
   "source": [
    "#Create new column Region based on region list\n",
    "ords_prods_all.loc[ords_prods_all['state'].isin(region_NE), 'region'] = 'Northeast'\n",
    "ords_prods_all.loc[ords_prods_all['state'].isin(region_MW), 'region'] = 'Midwest'\n",
    "ords_prods_all.loc[ords_prods_all['state'].isin(region_S), 'region'] = 'South'\n",
    "ords_prods_all.loc[ords_prods_all['state'].isin(region_W), 'region'] = 'West'"
   ]
  },
  {
   "cell_type": "code",
   "execution_count": 9,
   "id": "53ff15e0",
   "metadata": {},
   "outputs": [
    {
     "data": {
      "text/plain": [
       "South        10791885\n",
       "West          8292913\n",
       "Midwest       7597325\n",
       "Northeast     5722736\n",
       "Name: region, dtype: int64"
      ]
     },
     "execution_count": 9,
     "metadata": {},
     "output_type": "execute_result"
    }
   ],
   "source": [
    "#Check region values\n",
    "ords_prods_all['region'].value_counts(dropna = False)"
   ]
  },
  {
   "cell_type": "code",
   "execution_count": 10,
   "id": "0b9efe7d",
   "metadata": {},
   "outputs": [
    {
     "data": {
      "text/plain": [
       "(32404859, 32)"
      ]
     },
     "execution_count": 10,
     "metadata": {},
     "output_type": "execute_result"
    }
   ],
   "source": [
    "#check dimensions \n",
    "ords_prods_all.shape"
   ]
  },
  {
   "cell_type": "markdown",
   "id": "42a820a4",
   "metadata": {},
   "source": [
    "### Check the spending habits across regions"
   ]
  },
  {
   "cell_type": "code",
   "execution_count": 11,
   "id": "ac3b0f95",
   "metadata": {},
   "outputs": [],
   "source": [
    "#Crosstab spending habits across regions\n",
    "crosstab_spending_habits = pd.crosstab (ords_prods_all['region'], ords_prods_all['spending_flag'], dropna = False)"
   ]
  },
  {
   "cell_type": "code",
   "execution_count": 12,
   "id": "e9f01228",
   "metadata": {},
   "outputs": [
    {
     "data": {
      "text/html": [
       "<div>\n",
       "<style scoped>\n",
       "    .dataframe tbody tr th:only-of-type {\n",
       "        vertical-align: middle;\n",
       "    }\n",
       "\n",
       "    .dataframe tbody tr th {\n",
       "        vertical-align: top;\n",
       "    }\n",
       "\n",
       "    .dataframe thead th {\n",
       "        text-align: right;\n",
       "    }\n",
       "</style>\n",
       "<table border=\"1\" class=\"dataframe\">\n",
       "  <thead>\n",
       "    <tr style=\"text-align: right;\">\n",
       "      <th>spending_flag</th>\n",
       "      <th>High spender</th>\n",
       "      <th>Low spender</th>\n",
       "    </tr>\n",
       "    <tr>\n",
       "      <th>region</th>\n",
       "      <th></th>\n",
       "      <th></th>\n",
       "    </tr>\n",
       "  </thead>\n",
       "  <tbody>\n",
       "    <tr>\n",
       "      <th>Midwest</th>\n",
       "      <td>29444</td>\n",
       "      <td>7567881</td>\n",
       "    </tr>\n",
       "    <tr>\n",
       "      <th>Northeast</th>\n",
       "      <td>18662</td>\n",
       "      <td>5704074</td>\n",
       "    </tr>\n",
       "    <tr>\n",
       "      <th>South</th>\n",
       "      <td>40890</td>\n",
       "      <td>10750995</td>\n",
       "    </tr>\n",
       "    <tr>\n",
       "      <th>West</th>\n",
       "      <td>31347</td>\n",
       "      <td>8261566</td>\n",
       "    </tr>\n",
       "  </tbody>\n",
       "</table>\n",
       "</div>"
      ],
      "text/plain": [
       "spending_flag  High spender  Low spender\n",
       "region                                  \n",
       "Midwest               29444      7567881\n",
       "Northeast             18662      5704074\n",
       "South                 40890     10750995\n",
       "West                  31347      8261566"
      ]
     },
     "execution_count": 12,
     "metadata": {},
     "output_type": "execute_result"
    }
   ],
   "source": [
    "crosstab_spending_habits"
   ]
  },
  {
   "cell_type": "markdown",
   "id": "4aea5260",
   "metadata": {},
   "source": [
    "## 4. Creating an exclusion flag for low-activity customers"
   ]
  },
  {
   "cell_type": "code",
   "execution_count": 13,
   "id": "c422dbaf",
   "metadata": {},
   "outputs": [],
   "source": [
    "ords_prods_all.loc[ords_prods_all['max_order'] <5, 'activity_flag'] = 'Low activity'"
   ]
  },
  {
   "cell_type": "code",
   "execution_count": 14,
   "id": "b1447a42",
   "metadata": {},
   "outputs": [],
   "source": [
    "ords_prods_all.loc[ords_prods_all['max_order'] >=5, 'activity_flag'] = 'High activity'"
   ]
  },
  {
   "cell_type": "code",
   "execution_count": 15,
   "id": "ff6c12d4",
   "metadata": {},
   "outputs": [
    {
     "data": {
      "text/html": [
       "<div>\n",
       "<style scoped>\n",
       "    .dataframe tbody tr th:only-of-type {\n",
       "        vertical-align: middle;\n",
       "    }\n",
       "\n",
       "    .dataframe tbody tr th {\n",
       "        vertical-align: top;\n",
       "    }\n",
       "\n",
       "    .dataframe thead th {\n",
       "        text-align: right;\n",
       "    }\n",
       "</style>\n",
       "<table border=\"1\" class=\"dataframe\">\n",
       "  <thead>\n",
       "    <tr style=\"text-align: right;\">\n",
       "      <th></th>\n",
       "      <th>order_id</th>\n",
       "      <th>user_id</th>\n",
       "      <th>order_number</th>\n",
       "      <th>orders_day_of_week</th>\n",
       "      <th>order_hour_of_day</th>\n",
       "      <th>days_since_prior_order</th>\n",
       "      <th>product_id</th>\n",
       "      <th>add_to_cart_order</th>\n",
       "      <th>reordered</th>\n",
       "      <th>product_name</th>\n",
       "      <th>...</th>\n",
       "      <th>order_frequency_flag</th>\n",
       "      <th>gender</th>\n",
       "      <th>state</th>\n",
       "      <th>age</th>\n",
       "      <th>registration_date</th>\n",
       "      <th>num_dependants</th>\n",
       "      <th>marital_status</th>\n",
       "      <th>income</th>\n",
       "      <th>region</th>\n",
       "      <th>activity_flag</th>\n",
       "    </tr>\n",
       "  </thead>\n",
       "  <tbody>\n",
       "    <tr>\n",
       "      <th>32404854</th>\n",
       "      <td>156685</td>\n",
       "      <td>106143</td>\n",
       "      <td>26</td>\n",
       "      <td>4</td>\n",
       "      <td>23</td>\n",
       "      <td>5.0</td>\n",
       "      <td>19675</td>\n",
       "      <td>1</td>\n",
       "      <td>1</td>\n",
       "      <td>Organic Raspberry Black Tea</td>\n",
       "      <td>...</td>\n",
       "      <td>Frequent customer</td>\n",
       "      <td>Male</td>\n",
       "      <td>Hawaii</td>\n",
       "      <td>25</td>\n",
       "      <td>5/26/2017</td>\n",
       "      <td>0</td>\n",
       "      <td>single</td>\n",
       "      <td>53755</td>\n",
       "      <td>West</td>\n",
       "      <td>High activity</td>\n",
       "    </tr>\n",
       "    <tr>\n",
       "      <th>32404855</th>\n",
       "      <td>484769</td>\n",
       "      <td>66343</td>\n",
       "      <td>1</td>\n",
       "      <td>6</td>\n",
       "      <td>11</td>\n",
       "      <td>NaN</td>\n",
       "      <td>47210</td>\n",
       "      <td>1</td>\n",
       "      <td>0</td>\n",
       "      <td>Fresh Farmed Tilapia Fillet</td>\n",
       "      <td>...</td>\n",
       "      <td>Non-frequent customer</td>\n",
       "      <td>Female</td>\n",
       "      <td>Tennessee</td>\n",
       "      <td>22</td>\n",
       "      <td>9/12/2017</td>\n",
       "      <td>3</td>\n",
       "      <td>married</td>\n",
       "      <td>46151</td>\n",
       "      <td>South</td>\n",
       "      <td>Low activity</td>\n",
       "    </tr>\n",
       "    <tr>\n",
       "      <th>32404856</th>\n",
       "      <td>1561557</td>\n",
       "      <td>66343</td>\n",
       "      <td>2</td>\n",
       "      <td>1</td>\n",
       "      <td>11</td>\n",
       "      <td>30.0</td>\n",
       "      <td>47210</td>\n",
       "      <td>1</td>\n",
       "      <td>1</td>\n",
       "      <td>Fresh Farmed Tilapia Fillet</td>\n",
       "      <td>...</td>\n",
       "      <td>Non-frequent customer</td>\n",
       "      <td>Female</td>\n",
       "      <td>Tennessee</td>\n",
       "      <td>22</td>\n",
       "      <td>9/12/2017</td>\n",
       "      <td>3</td>\n",
       "      <td>married</td>\n",
       "      <td>46151</td>\n",
       "      <td>South</td>\n",
       "      <td>Low activity</td>\n",
       "    </tr>\n",
       "    <tr>\n",
       "      <th>32404857</th>\n",
       "      <td>276317</td>\n",
       "      <td>66343</td>\n",
       "      <td>3</td>\n",
       "      <td>6</td>\n",
       "      <td>15</td>\n",
       "      <td>19.0</td>\n",
       "      <td>47210</td>\n",
       "      <td>1</td>\n",
       "      <td>1</td>\n",
       "      <td>Fresh Farmed Tilapia Fillet</td>\n",
       "      <td>...</td>\n",
       "      <td>Non-frequent customer</td>\n",
       "      <td>Female</td>\n",
       "      <td>Tennessee</td>\n",
       "      <td>22</td>\n",
       "      <td>9/12/2017</td>\n",
       "      <td>3</td>\n",
       "      <td>married</td>\n",
       "      <td>46151</td>\n",
       "      <td>South</td>\n",
       "      <td>Low activity</td>\n",
       "    </tr>\n",
       "    <tr>\n",
       "      <th>32404858</th>\n",
       "      <td>2922475</td>\n",
       "      <td>66343</td>\n",
       "      <td>4</td>\n",
       "      <td>1</td>\n",
       "      <td>12</td>\n",
       "      <td>30.0</td>\n",
       "      <td>47210</td>\n",
       "      <td>1</td>\n",
       "      <td>1</td>\n",
       "      <td>Fresh Farmed Tilapia Fillet</td>\n",
       "      <td>...</td>\n",
       "      <td>Non-frequent customer</td>\n",
       "      <td>Female</td>\n",
       "      <td>Tennessee</td>\n",
       "      <td>22</td>\n",
       "      <td>9/12/2017</td>\n",
       "      <td>3</td>\n",
       "      <td>married</td>\n",
       "      <td>46151</td>\n",
       "      <td>South</td>\n",
       "      <td>Low activity</td>\n",
       "    </tr>\n",
       "  </tbody>\n",
       "</table>\n",
       "<p>5 rows × 33 columns</p>\n",
       "</div>"
      ],
      "text/plain": [
       "          order_id  user_id  order_number  orders_day_of_week  \\\n",
       "32404854    156685   106143            26                   4   \n",
       "32404855    484769    66343             1                   6   \n",
       "32404856   1561557    66343             2                   1   \n",
       "32404857    276317    66343             3                   6   \n",
       "32404858   2922475    66343             4                   1   \n",
       "\n",
       "          order_hour_of_day  days_since_prior_order  product_id  \\\n",
       "32404854                 23                     5.0       19675   \n",
       "32404855                 11                     NaN       47210   \n",
       "32404856                 11                    30.0       47210   \n",
       "32404857                 15                    19.0       47210   \n",
       "32404858                 12                    30.0       47210   \n",
       "\n",
       "          add_to_cart_order  reordered                 product_name  ...  \\\n",
       "32404854                  1          1  Organic Raspberry Black Tea  ...   \n",
       "32404855                  1          0  Fresh Farmed Tilapia Fillet  ...   \n",
       "32404856                  1          1  Fresh Farmed Tilapia Fillet  ...   \n",
       "32404857                  1          1  Fresh Farmed Tilapia Fillet  ...   \n",
       "32404858                  1          1  Fresh Farmed Tilapia Fillet  ...   \n",
       "\n",
       "           order_frequency_flag  gender      state age registration_date  \\\n",
       "32404854      Frequent customer    Male     Hawaii  25         5/26/2017   \n",
       "32404855  Non-frequent customer  Female  Tennessee  22         9/12/2017   \n",
       "32404856  Non-frequent customer  Female  Tennessee  22         9/12/2017   \n",
       "32404857  Non-frequent customer  Female  Tennessee  22         9/12/2017   \n",
       "32404858  Non-frequent customer  Female  Tennessee  22         9/12/2017   \n",
       "\n",
       "         num_dependants marital_status income  region  activity_flag  \n",
       "32404854              0         single  53755    West  High activity  \n",
       "32404855              3        married  46151   South   Low activity  \n",
       "32404856              3        married  46151   South   Low activity  \n",
       "32404857              3        married  46151   South   Low activity  \n",
       "32404858              3        married  46151   South   Low activity  \n",
       "\n",
       "[5 rows x 33 columns]"
      ]
     },
     "execution_count": 15,
     "metadata": {},
     "output_type": "execute_result"
    }
   ],
   "source": [
    "ords_prods_all.tail()"
   ]
  },
  {
   "cell_type": "code",
   "execution_count": 16,
   "id": "d26c2c53",
   "metadata": {},
   "outputs": [
    {
     "data": {
      "text/plain": [
       "High activity    30964564\n",
       "Low activity      1440295\n",
       "Name: activity_flag, dtype: int64"
      ]
     },
     "execution_count": 16,
     "metadata": {},
     "output_type": "execute_result"
    }
   ],
   "source": [
    "# Check frequency of new activity_flag column\n",
    "ords_prods_all['activity_flag'].value_counts(dropna = False)"
   ]
  },
  {
   "cell_type": "code",
   "execution_count": 17,
   "id": "4bb95ba2",
   "metadata": {},
   "outputs": [],
   "source": [
    "#create a subset which EXCLUDES low_activity customers\n",
    "high_activity_cust =ords_prods_all[ords_prods_all['activity_flag'] == 'High activity']"
   ]
  },
  {
   "cell_type": "code",
   "execution_count": 18,
   "id": "eeb3ab45",
   "metadata": {},
   "outputs": [
    {
     "data": {
      "text/html": [
       "<div>\n",
       "<style scoped>\n",
       "    .dataframe tbody tr th:only-of-type {\n",
       "        vertical-align: middle;\n",
       "    }\n",
       "\n",
       "    .dataframe tbody tr th {\n",
       "        vertical-align: top;\n",
       "    }\n",
       "\n",
       "    .dataframe thead th {\n",
       "        text-align: right;\n",
       "    }\n",
       "</style>\n",
       "<table border=\"1\" class=\"dataframe\">\n",
       "  <thead>\n",
       "    <tr style=\"text-align: right;\">\n",
       "      <th></th>\n",
       "      <th>order_id</th>\n",
       "      <th>user_id</th>\n",
       "      <th>order_number</th>\n",
       "      <th>orders_day_of_week</th>\n",
       "      <th>order_hour_of_day</th>\n",
       "      <th>days_since_prior_order</th>\n",
       "      <th>product_id</th>\n",
       "      <th>add_to_cart_order</th>\n",
       "      <th>reordered</th>\n",
       "      <th>product_name</th>\n",
       "      <th>...</th>\n",
       "      <th>order_frequency_flag</th>\n",
       "      <th>gender</th>\n",
       "      <th>state</th>\n",
       "      <th>age</th>\n",
       "      <th>registration_date</th>\n",
       "      <th>num_dependants</th>\n",
       "      <th>marital_status</th>\n",
       "      <th>income</th>\n",
       "      <th>region</th>\n",
       "      <th>activity_flag</th>\n",
       "    </tr>\n",
       "  </thead>\n",
       "  <tbody>\n",
       "    <tr>\n",
       "      <th>32404850</th>\n",
       "      <td>3308056</td>\n",
       "      <td>106143</td>\n",
       "      <td>22</td>\n",
       "      <td>4</td>\n",
       "      <td>20</td>\n",
       "      <td>10.0</td>\n",
       "      <td>19675</td>\n",
       "      <td>1</td>\n",
       "      <td>1</td>\n",
       "      <td>Organic Raspberry Black Tea</td>\n",
       "      <td>...</td>\n",
       "      <td>Frequent customer</td>\n",
       "      <td>Male</td>\n",
       "      <td>Hawaii</td>\n",
       "      <td>25</td>\n",
       "      <td>5/26/2017</td>\n",
       "      <td>0</td>\n",
       "      <td>single</td>\n",
       "      <td>53755</td>\n",
       "      <td>West</td>\n",
       "      <td>High activity</td>\n",
       "    </tr>\n",
       "    <tr>\n",
       "      <th>32404851</th>\n",
       "      <td>2988973</td>\n",
       "      <td>106143</td>\n",
       "      <td>23</td>\n",
       "      <td>2</td>\n",
       "      <td>22</td>\n",
       "      <td>5.0</td>\n",
       "      <td>19675</td>\n",
       "      <td>1</td>\n",
       "      <td>1</td>\n",
       "      <td>Organic Raspberry Black Tea</td>\n",
       "      <td>...</td>\n",
       "      <td>Frequent customer</td>\n",
       "      <td>Male</td>\n",
       "      <td>Hawaii</td>\n",
       "      <td>25</td>\n",
       "      <td>5/26/2017</td>\n",
       "      <td>0</td>\n",
       "      <td>single</td>\n",
       "      <td>53755</td>\n",
       "      <td>West</td>\n",
       "      <td>High activity</td>\n",
       "    </tr>\n",
       "    <tr>\n",
       "      <th>32404852</th>\n",
       "      <td>930</td>\n",
       "      <td>106143</td>\n",
       "      <td>24</td>\n",
       "      <td>6</td>\n",
       "      <td>12</td>\n",
       "      <td>4.0</td>\n",
       "      <td>19675</td>\n",
       "      <td>1</td>\n",
       "      <td>1</td>\n",
       "      <td>Organic Raspberry Black Tea</td>\n",
       "      <td>...</td>\n",
       "      <td>Frequent customer</td>\n",
       "      <td>Male</td>\n",
       "      <td>Hawaii</td>\n",
       "      <td>25</td>\n",
       "      <td>5/26/2017</td>\n",
       "      <td>0</td>\n",
       "      <td>single</td>\n",
       "      <td>53755</td>\n",
       "      <td>West</td>\n",
       "      <td>High activity</td>\n",
       "    </tr>\n",
       "    <tr>\n",
       "      <th>32404853</th>\n",
       "      <td>467253</td>\n",
       "      <td>106143</td>\n",
       "      <td>25</td>\n",
       "      <td>6</td>\n",
       "      <td>16</td>\n",
       "      <td>7.0</td>\n",
       "      <td>19675</td>\n",
       "      <td>1</td>\n",
       "      <td>1</td>\n",
       "      <td>Organic Raspberry Black Tea</td>\n",
       "      <td>...</td>\n",
       "      <td>Frequent customer</td>\n",
       "      <td>Male</td>\n",
       "      <td>Hawaii</td>\n",
       "      <td>25</td>\n",
       "      <td>5/26/2017</td>\n",
       "      <td>0</td>\n",
       "      <td>single</td>\n",
       "      <td>53755</td>\n",
       "      <td>West</td>\n",
       "      <td>High activity</td>\n",
       "    </tr>\n",
       "    <tr>\n",
       "      <th>32404854</th>\n",
       "      <td>156685</td>\n",
       "      <td>106143</td>\n",
       "      <td>26</td>\n",
       "      <td>4</td>\n",
       "      <td>23</td>\n",
       "      <td>5.0</td>\n",
       "      <td>19675</td>\n",
       "      <td>1</td>\n",
       "      <td>1</td>\n",
       "      <td>Organic Raspberry Black Tea</td>\n",
       "      <td>...</td>\n",
       "      <td>Frequent customer</td>\n",
       "      <td>Male</td>\n",
       "      <td>Hawaii</td>\n",
       "      <td>25</td>\n",
       "      <td>5/26/2017</td>\n",
       "      <td>0</td>\n",
       "      <td>single</td>\n",
       "      <td>53755</td>\n",
       "      <td>West</td>\n",
       "      <td>High activity</td>\n",
       "    </tr>\n",
       "  </tbody>\n",
       "</table>\n",
       "<p>5 rows × 33 columns</p>\n",
       "</div>"
      ],
      "text/plain": [
       "          order_id  user_id  order_number  orders_day_of_week  \\\n",
       "32404850   3308056   106143            22                   4   \n",
       "32404851   2988973   106143            23                   2   \n",
       "32404852       930   106143            24                   6   \n",
       "32404853    467253   106143            25                   6   \n",
       "32404854    156685   106143            26                   4   \n",
       "\n",
       "          order_hour_of_day  days_since_prior_order  product_id  \\\n",
       "32404850                 20                    10.0       19675   \n",
       "32404851                 22                     5.0       19675   \n",
       "32404852                 12                     4.0       19675   \n",
       "32404853                 16                     7.0       19675   \n",
       "32404854                 23                     5.0       19675   \n",
       "\n",
       "          add_to_cart_order  reordered                 product_name  ...  \\\n",
       "32404850                  1          1  Organic Raspberry Black Tea  ...   \n",
       "32404851                  1          1  Organic Raspberry Black Tea  ...   \n",
       "32404852                  1          1  Organic Raspberry Black Tea  ...   \n",
       "32404853                  1          1  Organic Raspberry Black Tea  ...   \n",
       "32404854                  1          1  Organic Raspberry Black Tea  ...   \n",
       "\n",
       "          order_frequency_flag  gender   state age registration_date  \\\n",
       "32404850     Frequent customer    Male  Hawaii  25         5/26/2017   \n",
       "32404851     Frequent customer    Male  Hawaii  25         5/26/2017   \n",
       "32404852     Frequent customer    Male  Hawaii  25         5/26/2017   \n",
       "32404853     Frequent customer    Male  Hawaii  25         5/26/2017   \n",
       "32404854     Frequent customer    Male  Hawaii  25         5/26/2017   \n",
       "\n",
       "         num_dependants marital_status income  region  activity_flag  \n",
       "32404850              0         single  53755    West  High activity  \n",
       "32404851              0         single  53755    West  High activity  \n",
       "32404852              0         single  53755    West  High activity  \n",
       "32404853              0         single  53755    West  High activity  \n",
       "32404854              0         single  53755    West  High activity  \n",
       "\n",
       "[5 rows x 33 columns]"
      ]
     },
     "execution_count": 18,
     "metadata": {},
     "output_type": "execute_result"
    }
   ],
   "source": [
    "high_activity_cust.tail()"
   ]
  },
  {
   "cell_type": "code",
   "execution_count": 19,
   "id": "6686bdda",
   "metadata": {},
   "outputs": [],
   "source": [
    "#export high_activity_custm dataframe\n",
    "high_activity_cust.to_pickle(os.path.join(path, '02 Data', 'Prepared Data', 'high activity customers.pkl'))"
   ]
  },
  {
   "cell_type": "markdown",
   "id": "3301e845",
   "metadata": {},
   "source": [
    "## 5. Customer Profiling"
   ]
  },
  {
   "cell_type": "code",
   "execution_count": 20,
   "id": "5129ddcd",
   "metadata": {},
   "outputs": [],
   "source": [
    "#import high_activity_custm dataframe\n",
    "custmrs = pd.read_pickle(os.path.join(path, '02 Data', 'Prepared Data', 'high activity customers.pkl'))"
   ]
  },
  {
   "cell_type": "markdown",
   "id": "25376e80",
   "metadata": {},
   "source": [
    "#### Departments"
   ]
  },
  {
   "cell_type": "code",
   "execution_count": 21,
   "id": "b1e0d3b1",
   "metadata": {},
   "outputs": [
    {
     "data": {
      "text/html": [
       "<div>\n",
       "<style scoped>\n",
       "    .dataframe tbody tr th:only-of-type {\n",
       "        vertical-align: middle;\n",
       "    }\n",
       "\n",
       "    .dataframe tbody tr th {\n",
       "        vertical-align: top;\n",
       "    }\n",
       "\n",
       "    .dataframe thead th {\n",
       "        text-align: right;\n",
       "    }\n",
       "</style>\n",
       "<table border=\"1\" class=\"dataframe\">\n",
       "  <thead>\n",
       "    <tr style=\"text-align: right;\">\n",
       "      <th></th>\n",
       "      <th>Unnamed: 0</th>\n",
       "      <th>department</th>\n",
       "    </tr>\n",
       "  </thead>\n",
       "  <tbody>\n",
       "    <tr>\n",
       "      <th>0</th>\n",
       "      <td>1</td>\n",
       "      <td>frozen</td>\n",
       "    </tr>\n",
       "    <tr>\n",
       "      <th>1</th>\n",
       "      <td>2</td>\n",
       "      <td>other</td>\n",
       "    </tr>\n",
       "    <tr>\n",
       "      <th>2</th>\n",
       "      <td>3</td>\n",
       "      <td>bakery</td>\n",
       "    </tr>\n",
       "    <tr>\n",
       "      <th>3</th>\n",
       "      <td>4</td>\n",
       "      <td>produce</td>\n",
       "    </tr>\n",
       "    <tr>\n",
       "      <th>4</th>\n",
       "      <td>5</td>\n",
       "      <td>alcohol</td>\n",
       "    </tr>\n",
       "    <tr>\n",
       "      <th>5</th>\n",
       "      <td>6</td>\n",
       "      <td>international</td>\n",
       "    </tr>\n",
       "    <tr>\n",
       "      <th>6</th>\n",
       "      <td>7</td>\n",
       "      <td>beverages</td>\n",
       "    </tr>\n",
       "    <tr>\n",
       "      <th>7</th>\n",
       "      <td>8</td>\n",
       "      <td>pets</td>\n",
       "    </tr>\n",
       "    <tr>\n",
       "      <th>8</th>\n",
       "      <td>9</td>\n",
       "      <td>dry goods pasta</td>\n",
       "    </tr>\n",
       "    <tr>\n",
       "      <th>9</th>\n",
       "      <td>10</td>\n",
       "      <td>bulk</td>\n",
       "    </tr>\n",
       "    <tr>\n",
       "      <th>10</th>\n",
       "      <td>11</td>\n",
       "      <td>personal care</td>\n",
       "    </tr>\n",
       "    <tr>\n",
       "      <th>11</th>\n",
       "      <td>12</td>\n",
       "      <td>meat seafood</td>\n",
       "    </tr>\n",
       "    <tr>\n",
       "      <th>12</th>\n",
       "      <td>13</td>\n",
       "      <td>pantry</td>\n",
       "    </tr>\n",
       "    <tr>\n",
       "      <th>13</th>\n",
       "      <td>14</td>\n",
       "      <td>breakfast</td>\n",
       "    </tr>\n",
       "    <tr>\n",
       "      <th>14</th>\n",
       "      <td>15</td>\n",
       "      <td>canned goods</td>\n",
       "    </tr>\n",
       "    <tr>\n",
       "      <th>15</th>\n",
       "      <td>16</td>\n",
       "      <td>dairy eggs</td>\n",
       "    </tr>\n",
       "    <tr>\n",
       "      <th>16</th>\n",
       "      <td>17</td>\n",
       "      <td>household</td>\n",
       "    </tr>\n",
       "    <tr>\n",
       "      <th>17</th>\n",
       "      <td>18</td>\n",
       "      <td>babies</td>\n",
       "    </tr>\n",
       "    <tr>\n",
       "      <th>18</th>\n",
       "      <td>19</td>\n",
       "      <td>snacks</td>\n",
       "    </tr>\n",
       "    <tr>\n",
       "      <th>19</th>\n",
       "      <td>20</td>\n",
       "      <td>deli</td>\n",
       "    </tr>\n",
       "    <tr>\n",
       "      <th>20</th>\n",
       "      <td>21</td>\n",
       "      <td>missing</td>\n",
       "    </tr>\n",
       "  </tbody>\n",
       "</table>\n",
       "</div>"
      ],
      "text/plain": [
       "    Unnamed: 0       department\n",
       "0            1           frozen\n",
       "1            2            other\n",
       "2            3           bakery\n",
       "3            4          produce\n",
       "4            5          alcohol\n",
       "5            6    international\n",
       "6            7        beverages\n",
       "7            8             pets\n",
       "8            9  dry goods pasta\n",
       "9           10             bulk\n",
       "10          11    personal care\n",
       "11          12     meat seafood\n",
       "12          13           pantry\n",
       "13          14        breakfast\n",
       "14          15     canned goods\n",
       "15          16       dairy eggs\n",
       "16          17        household\n",
       "17          18           babies\n",
       "18          19           snacks\n",
       "19          20             deli\n",
       "20          21          missing"
      ]
     },
     "execution_count": 21,
     "metadata": {},
     "output_type": "execute_result"
    }
   ],
   "source": [
    "#checking departments\n",
    "df_depts"
   ]
  },
  {
   "cell_type": "code",
   "execution_count": 22,
   "id": "4989ca28",
   "metadata": {},
   "outputs": [],
   "source": [
    "# rename column\n",
    "df_depts.rename(columns= {\"Unnamed: 0\": \"department_id\"}, inplace = True)"
   ]
  },
  {
   "cell_type": "code",
   "execution_count": 23,
   "id": "644e6f44",
   "metadata": {},
   "outputs": [],
   "source": [
    "# Create a data dictionary for departments\n",
    "data_dict = dict(zip(df_depts[\"department_id\"], df_depts[\"department\"]))"
   ]
  },
  {
   "cell_type": "code",
   "execution_count": 24,
   "id": "37a2c393",
   "metadata": {},
   "outputs": [],
   "source": [
    "# Create a new column to convert department_id\n",
    "custmrs['department'] = custmrs['department_id'].map(data_dict)"
   ]
  },
  {
   "cell_type": "code",
   "execution_count": 25,
   "id": "7034cb25",
   "metadata": {},
   "outputs": [
    {
     "data": {
      "text/plain": [
       "produce            9079273\n",
       "dairy eggs         5177182\n",
       "snacks             2766406\n",
       "beverages          2571901\n",
       "frozen             2121731\n",
       "pantry             1782705\n",
       "bakery             1120828\n",
       "canned goods       1012074\n",
       "deli               1003834\n",
       "dry goods pasta     822136\n",
       "household           699857\n",
       "meat seafood        674781\n",
       "breakfast           670850\n",
       "personal care       424306\n",
       "babies              410392\n",
       "international       255991\n",
       "alcohol             144627\n",
       "pets                 93060\n",
       "missing              64768\n",
       "other                34411\n",
       "bulk                 33451\n",
       "Name: department, dtype: int64"
      ]
     },
     "execution_count": 25,
     "metadata": {},
     "output_type": "execute_result"
    }
   ],
   "source": [
    "# Check department column\n",
    "custmrs['department'].value_counts(dropna = False)"
   ]
  },
  {
   "cell_type": "code",
   "execution_count": 26,
   "id": "bc6c8f07",
   "metadata": {},
   "outputs": [
    {
     "data": {
      "text/plain": [
       "Text(0.5, 0, 'Department')"
      ]
     },
     "execution_count": 26,
     "metadata": {},
     "output_type": "execute_result"
    },
    {
     "data": {
      "image/png": "[encoded data removed]",
      "text/plain": [
       "<Figure size 640x480 with 1 Axes>"
      ]
     },
     "metadata": {},
     "output_type": "display_data"
    }
   ],
   "source": [
    "# Create a bar chart for distribution of departments\n",
    "bar_departments = custmrs['department'].value_counts().plot.bar()\n",
    "\n",
    "plt.title('Distribution of Department Products Sold', fontsize = 20)\n",
    "plt.ylabel('Frequency (in millions)', fontsize = 12)\n",
    "plt.xlabel('Department', fontsize = 12)"
   ]
  },
  {
   "cell_type": "markdown",
   "id": "a70f54ec",
   "metadata": {},
   "source": [
    "### Customers based on Age"
   ]
  },
  {
   "cell_type": "code",
   "execution_count": 27,
   "id": "fc40d9aa",
   "metadata": {},
   "outputs": [
    {
     "data": {
      "text/plain": [
       "count    3.096456e+07\n",
       "mean     4.946803e+01\n",
       "std      1.848528e+01\n",
       "min      1.800000e+01\n",
       "25%      3.300000e+01\n",
       "50%      4.900000e+01\n",
       "75%      6.500000e+01\n",
       "max      8.100000e+01\n",
       "Name: age, dtype: float64"
      ]
     },
     "execution_count": 27,
     "metadata": {},
     "output_type": "execute_result"
    }
   ],
   "source": [
    "# Verify age column\n",
    "custmrs['age'].describe()"
   ]
  },
  {
   "cell_type": "markdown",
   "id": "50d4f3fc",
   "metadata": {},
   "source": [
    "#### The age grouping will be divided  as follows:\n",
    "- Young Adult : 18-39\n",
    "- Middle Aged : 40-64\n",
    "- Senior      : 65+"
   ]
  },
  {
   "cell_type": "code",
   "execution_count": 28,
   "id": "b08950dd",
   "metadata": {},
   "outputs": [],
   "source": [
    "# Create the age groups\n",
    "custmrs.loc[(custmrs['age'] >= 18) & (custmrs['age'] < 40), 'age_group'] = 'Young Adult'\n",
    "custmrs.loc[(custmrs['age'] >= 40) & (custmrs['age'] < 65), 'age_group'] = 'Middle-Aged'\n",
    "custmrs.loc[custmrs['age'] >= 65, 'age_group'] = 'Senior'"
   ]
  },
  {
   "cell_type": "code",
   "execution_count": 29,
   "id": "98135481",
   "metadata": {},
   "outputs": [
    {
     "data": {
      "text/html": [
       "<div>\n",
       "<style scoped>\n",
       "    .dataframe tbody tr th:only-of-type {\n",
       "        vertical-align: middle;\n",
       "    }\n",
       "\n",
       "    .dataframe tbody tr th {\n",
       "        vertical-align: top;\n",
       "    }\n",
       "\n",
       "    .dataframe thead th {\n",
       "        text-align: right;\n",
       "    }\n",
       "</style>\n",
       "<table border=\"1\" class=\"dataframe\">\n",
       "  <thead>\n",
       "    <tr style=\"text-align: right;\">\n",
       "      <th></th>\n",
       "      <th>order_id</th>\n",
       "      <th>user_id</th>\n",
       "      <th>order_number</th>\n",
       "      <th>orders_day_of_week</th>\n",
       "      <th>order_hour_of_day</th>\n",
       "      <th>days_since_prior_order</th>\n",
       "      <th>product_id</th>\n",
       "      <th>add_to_cart_order</th>\n",
       "      <th>reordered</th>\n",
       "      <th>product_name</th>\n",
       "      <th>...</th>\n",
       "      <th>state</th>\n",
       "      <th>age</th>\n",
       "      <th>registration_date</th>\n",
       "      <th>num_dependants</th>\n",
       "      <th>marital_status</th>\n",
       "      <th>income</th>\n",
       "      <th>region</th>\n",
       "      <th>activity_flag</th>\n",
       "      <th>department</th>\n",
       "      <th>age_group</th>\n",
       "    </tr>\n",
       "  </thead>\n",
       "  <tbody>\n",
       "    <tr>\n",
       "      <th>0</th>\n",
       "      <td>2539329</td>\n",
       "      <td>1</td>\n",
       "      <td>1</td>\n",
       "      <td>2</td>\n",
       "      <td>8</td>\n",
       "      <td>NaN</td>\n",
       "      <td>196</td>\n",
       "      <td>1</td>\n",
       "      <td>0</td>\n",
       "      <td>Soda</td>\n",
       "      <td>...</td>\n",
       "      <td>Alabama</td>\n",
       "      <td>31</td>\n",
       "      <td>2/17/2019</td>\n",
       "      <td>3</td>\n",
       "      <td>married</td>\n",
       "      <td>40423</td>\n",
       "      <td>South</td>\n",
       "      <td>High activity</td>\n",
       "      <td>beverages</td>\n",
       "      <td>Young Adult</td>\n",
       "    </tr>\n",
       "    <tr>\n",
       "      <th>1</th>\n",
       "      <td>2398795</td>\n",
       "      <td>1</td>\n",
       "      <td>2</td>\n",
       "      <td>3</td>\n",
       "      <td>7</td>\n",
       "      <td>15.0</td>\n",
       "      <td>196</td>\n",
       "      <td>1</td>\n",
       "      <td>1</td>\n",
       "      <td>Soda</td>\n",
       "      <td>...</td>\n",
       "      <td>Alabama</td>\n",
       "      <td>31</td>\n",
       "      <td>2/17/2019</td>\n",
       "      <td>3</td>\n",
       "      <td>married</td>\n",
       "      <td>40423</td>\n",
       "      <td>South</td>\n",
       "      <td>High activity</td>\n",
       "      <td>beverages</td>\n",
       "      <td>Young Adult</td>\n",
       "    </tr>\n",
       "    <tr>\n",
       "      <th>2</th>\n",
       "      <td>473747</td>\n",
       "      <td>1</td>\n",
       "      <td>3</td>\n",
       "      <td>3</td>\n",
       "      <td>12</td>\n",
       "      <td>21.0</td>\n",
       "      <td>196</td>\n",
       "      <td>1</td>\n",
       "      <td>1</td>\n",
       "      <td>Soda</td>\n",
       "      <td>...</td>\n",
       "      <td>Alabama</td>\n",
       "      <td>31</td>\n",
       "      <td>2/17/2019</td>\n",
       "      <td>3</td>\n",
       "      <td>married</td>\n",
       "      <td>40423</td>\n",
       "      <td>South</td>\n",
       "      <td>High activity</td>\n",
       "      <td>beverages</td>\n",
       "      <td>Young Adult</td>\n",
       "    </tr>\n",
       "    <tr>\n",
       "      <th>3</th>\n",
       "      <td>2254736</td>\n",
       "      <td>1</td>\n",
       "      <td>4</td>\n",
       "      <td>4</td>\n",
       "      <td>7</td>\n",
       "      <td>29.0</td>\n",
       "      <td>196</td>\n",
       "      <td>1</td>\n",
       "      <td>1</td>\n",
       "      <td>Soda</td>\n",
       "      <td>...</td>\n",
       "      <td>Alabama</td>\n",
       "      <td>31</td>\n",
       "      <td>2/17/2019</td>\n",
       "      <td>3</td>\n",
       "      <td>married</td>\n",
       "      <td>40423</td>\n",
       "      <td>South</td>\n",
       "      <td>High activity</td>\n",
       "      <td>beverages</td>\n",
       "      <td>Young Adult</td>\n",
       "    </tr>\n",
       "    <tr>\n",
       "      <th>4</th>\n",
       "      <td>431534</td>\n",
       "      <td>1</td>\n",
       "      <td>5</td>\n",
       "      <td>4</td>\n",
       "      <td>15</td>\n",
       "      <td>28.0</td>\n",
       "      <td>196</td>\n",
       "      <td>1</td>\n",
       "      <td>1</td>\n",
       "      <td>Soda</td>\n",
       "      <td>...</td>\n",
       "      <td>Alabama</td>\n",
       "      <td>31</td>\n",
       "      <td>2/17/2019</td>\n",
       "      <td>3</td>\n",
       "      <td>married</td>\n",
       "      <td>40423</td>\n",
       "      <td>South</td>\n",
       "      <td>High activity</td>\n",
       "      <td>beverages</td>\n",
       "      <td>Young Adult</td>\n",
       "    </tr>\n",
       "  </tbody>\n",
       "</table>\n",
       "<p>5 rows × 35 columns</p>\n",
       "</div>"
      ],
      "text/plain": [
       "   order_id  user_id  order_number  orders_day_of_week  order_hour_of_day  \\\n",
       "0   2539329        1             1                   2                  8   \n",
       "1   2398795        1             2                   3                  7   \n",
       "2    473747        1             3                   3                 12   \n",
       "3   2254736        1             4                   4                  7   \n",
       "4    431534        1             5                   4                 15   \n",
       "\n",
       "   days_since_prior_order  product_id  add_to_cart_order  reordered  \\\n",
       "0                     NaN         196                  1          0   \n",
       "1                    15.0         196                  1          1   \n",
       "2                    21.0         196                  1          1   \n",
       "3                    29.0         196                  1          1   \n",
       "4                    28.0         196                  1          1   \n",
       "\n",
       "  product_name  ...    state  age  registration_date num_dependants  \\\n",
       "0         Soda  ...  Alabama   31          2/17/2019              3   \n",
       "1         Soda  ...  Alabama   31          2/17/2019              3   \n",
       "2         Soda  ...  Alabama   31          2/17/2019              3   \n",
       "3         Soda  ...  Alabama   31          2/17/2019              3   \n",
       "4         Soda  ...  Alabama   31          2/17/2019              3   \n",
       "\n",
       "  marital_status income region  activity_flag  department    age_group  \n",
       "0        married  40423  South  High activity   beverages  Young Adult  \n",
       "1        married  40423  South  High activity   beverages  Young Adult  \n",
       "2        married  40423  South  High activity   beverages  Young Adult  \n",
       "3        married  40423  South  High activity   beverages  Young Adult  \n",
       "4        married  40423  South  High activity   beverages  Young Adult  \n",
       "\n",
       "[5 rows x 35 columns]"
      ]
     },
     "execution_count": 29,
     "metadata": {},
     "output_type": "execute_result"
    }
   ],
   "source": [
    "custmrs.head()"
   ]
  },
  {
   "cell_type": "code",
   "execution_count": 30,
   "id": "572abcd7",
   "metadata": {},
   "outputs": [
    {
     "data": {
      "text/plain": [
       "Middle-Aged    12103910\n",
       "Young Adult    10665110\n",
       "Senior          8195544\n",
       "Name: age_group, dtype: int64"
      ]
     },
     "execution_count": 30,
     "metadata": {},
     "output_type": "execute_result"
    }
   ],
   "source": [
    "# Check frequency of age_group\n",
    "custmrs['age_group'].value_counts(dropna = False)"
   ]
  },
  {
   "cell_type": "code",
   "execution_count": 31,
   "id": "e0e84469",
   "metadata": {},
   "outputs": [
    {
     "data": {
      "text/plain": [
       "Text(0.5, 1.0, 'Customer Age Categories')"
      ]
     },
     "execution_count": 31,
     "metadata": {},
     "output_type": "execute_result"
    },
    {
     "data": {
      "image/png": "[encoded data removed]",
      "text/plain": [
       "<Figure size 640x480 with 1 Axes>"
      ]
     },
     "metadata": {},
     "output_type": "display_data"
    }
   ],
   "source": [
    "# Pie chart for customer age categories\n",
    "age_category_pie = custmrs['age_group'].value_counts().plot.pie(labels = ['Middle-Aged', 'Young Adult', 'Senior' ], autopct=('%.2f%%'), colors = ['royalblue', 'deepskyblue', 'lightblue', 'lightsteelblue'],\\\n",
    "                label = '')\n",
    "plt.title(\"Customer Age Categories\", fontsize = '16')"
   ]
  },
  {
   "cell_type": "code",
   "execution_count": 32,
   "id": "90e7a5e6",
   "metadata": {},
   "outputs": [],
   "source": [
    "#crosstab on age_category and region\n",
    "crosstab_age_by_region = pd.crosstab (custmrs['region'], custmrs['age_group'], dropna = False)"
   ]
  },
  {
   "cell_type": "code",
   "execution_count": 33,
   "id": "d0388d3d",
   "metadata": {},
   "outputs": [
    {
     "data": {
      "text/html": [
       "<div>\n",
       "<style scoped>\n",
       "    .dataframe tbody tr th:only-of-type {\n",
       "        vertical-align: middle;\n",
       "    }\n",
       "\n",
       "    .dataframe tbody tr th {\n",
       "        vertical-align: top;\n",
       "    }\n",
       "\n",
       "    .dataframe thead th {\n",
       "        text-align: right;\n",
       "    }\n",
       "</style>\n",
       "<table border=\"1\" class=\"dataframe\">\n",
       "  <thead>\n",
       "    <tr style=\"text-align: right;\">\n",
       "      <th>age_group</th>\n",
       "      <th>Middle-Aged</th>\n",
       "      <th>Senior</th>\n",
       "      <th>Young Adult</th>\n",
       "    </tr>\n",
       "    <tr>\n",
       "      <th>region</th>\n",
       "      <th></th>\n",
       "      <th></th>\n",
       "      <th></th>\n",
       "    </tr>\n",
       "  </thead>\n",
       "  <tbody>\n",
       "    <tr>\n",
       "      <th>Midwest</th>\n",
       "      <td>2874466</td>\n",
       "      <td>1904046</td>\n",
       "      <td>2483001</td>\n",
       "    </tr>\n",
       "    <tr>\n",
       "      <th>Northeast</th>\n",
       "      <td>2108141</td>\n",
       "      <td>1484807</td>\n",
       "      <td>1871737</td>\n",
       "    </tr>\n",
       "    <tr>\n",
       "      <th>South</th>\n",
       "      <td>3994431</td>\n",
       "      <td>2708461</td>\n",
       "      <td>3608247</td>\n",
       "    </tr>\n",
       "    <tr>\n",
       "      <th>West</th>\n",
       "      <td>3126872</td>\n",
       "      <td>2098230</td>\n",
       "      <td>2702125</td>\n",
       "    </tr>\n",
       "  </tbody>\n",
       "</table>\n",
       "</div>"
      ],
      "text/plain": [
       "age_group  Middle-Aged   Senior  Young Adult\n",
       "region                                      \n",
       "Midwest        2874466  1904046      2483001\n",
       "Northeast      2108141  1484807      1871737\n",
       "South          3994431  2708461      3608247\n",
       "West           3126872  2098230      2702125"
      ]
     },
     "execution_count": 33,
     "metadata": {},
     "output_type": "execute_result"
    }
   ],
   "source": [
    "crosstab_age_by_region"
   ]
  },
  {
   "cell_type": "markdown",
   "id": "5710636d",
   "metadata": {
    "scrolled": true
   },
   "source": [
    "#### Aggregate max, mean, min"
   ]
  },
  {
   "cell_type": "code",
   "execution_count": 34,
   "id": "7d34d5cd",
   "metadata": {},
   "outputs": [
    {
     "data": {
      "text/html": [
       "<div>\n",
       "<style scoped>\n",
       "    .dataframe tbody tr th:only-of-type {\n",
       "        vertical-align: middle;\n",
       "    }\n",
       "\n",
       "    .dataframe tbody tr th {\n",
       "        vertical-align: top;\n",
       "    }\n",
       "\n",
       "    .dataframe thead tr th {\n",
       "        text-align: left;\n",
       "    }\n",
       "\n",
       "    .dataframe thead tr:last-of-type th {\n",
       "        text-align: right;\n",
       "    }\n",
       "</style>\n",
       "<table border=\"1\" class=\"dataframe\">\n",
       "  <thead>\n",
       "    <tr>\n",
       "      <th></th>\n",
       "      <th colspan=\"3\" halign=\"left\">prices</th>\n",
       "    </tr>\n",
       "    <tr>\n",
       "      <th></th>\n",
       "      <th>mean</th>\n",
       "      <th>min</th>\n",
       "      <th>max</th>\n",
       "    </tr>\n",
       "    <tr>\n",
       "      <th>age_group</th>\n",
       "      <th></th>\n",
       "      <th></th>\n",
       "      <th></th>\n",
       "    </tr>\n",
       "  </thead>\n",
       "  <tbody>\n",
       "    <tr>\n",
       "      <th>Middle-Aged</th>\n",
       "      <td>7.790702</td>\n",
       "      <td>1.0</td>\n",
       "      <td>25.0</td>\n",
       "    </tr>\n",
       "    <tr>\n",
       "      <th>Senior</th>\n",
       "      <td>7.795896</td>\n",
       "      <td>1.0</td>\n",
       "      <td>25.0</td>\n",
       "    </tr>\n",
       "    <tr>\n",
       "      <th>Young Adult</th>\n",
       "      <td>7.784026</td>\n",
       "      <td>1.0</td>\n",
       "      <td>25.0</td>\n",
       "    </tr>\n",
       "  </tbody>\n",
       "</table>\n",
       "</div>"
      ],
      "text/plain": [
       "               prices           \n",
       "                 mean  min   max\n",
       "age_group                       \n",
       "Middle-Aged  7.790702  1.0  25.0\n",
       "Senior       7.795896  1.0  25.0\n",
       "Young Adult  7.784026  1.0  25.0"
      ]
     },
     "execution_count": 34,
     "metadata": {},
     "output_type": "execute_result"
    }
   ],
   "source": [
    "#age_group category expenditure aggregation\n",
    "custmrs.groupby('age_group').agg({'prices' : ['mean', 'min', 'max']})"
   ]
  },
  {
   "cell_type": "code",
   "execution_count": 35,
   "id": "ec88ea00",
   "metadata": {},
   "outputs": [
    {
     "data": {
      "text/html": [
       "<div>\n",
       "<style scoped>\n",
       "    .dataframe tbody tr th:only-of-type {\n",
       "        vertical-align: middle;\n",
       "    }\n",
       "\n",
       "    .dataframe tbody tr th {\n",
       "        vertical-align: top;\n",
       "    }\n",
       "\n",
       "    .dataframe thead tr th {\n",
       "        text-align: left;\n",
       "    }\n",
       "\n",
       "    .dataframe thead tr:last-of-type th {\n",
       "        text-align: right;\n",
       "    }\n",
       "</style>\n",
       "<table border=\"1\" class=\"dataframe\">\n",
       "  <thead>\n",
       "    <tr>\n",
       "      <th></th>\n",
       "      <th colspan=\"3\" halign=\"left\">add_to_cart_order</th>\n",
       "    </tr>\n",
       "    <tr>\n",
       "      <th></th>\n",
       "      <th>mean</th>\n",
       "      <th>min</th>\n",
       "      <th>max</th>\n",
       "    </tr>\n",
       "    <tr>\n",
       "      <th>age_group</th>\n",
       "      <th></th>\n",
       "      <th></th>\n",
       "      <th></th>\n",
       "    </tr>\n",
       "  </thead>\n",
       "  <tbody>\n",
       "    <tr>\n",
       "      <th>Middle-Aged</th>\n",
       "      <td>8.354216</td>\n",
       "      <td>1</td>\n",
       "      <td>145</td>\n",
       "    </tr>\n",
       "    <tr>\n",
       "      <th>Senior</th>\n",
       "      <td>8.307779</td>\n",
       "      <td>1</td>\n",
       "      <td>99</td>\n",
       "    </tr>\n",
       "    <tr>\n",
       "      <th>Young Adult</th>\n",
       "      <td>8.415515</td>\n",
       "      <td>1</td>\n",
       "      <td>109</td>\n",
       "    </tr>\n",
       "  </tbody>\n",
       "</table>\n",
       "</div>"
      ],
      "text/plain": [
       "            add_to_cart_order         \n",
       "                         mean min  max\n",
       "age_group                             \n",
       "Middle-Aged          8.354216   1  145\n",
       "Senior               8.307779   1   99\n",
       "Young Adult          8.415515   1  109"
      ]
     },
     "execution_count": 35,
     "metadata": {},
     "output_type": "execute_result"
    }
   ],
   "source": [
    "#age_group category frequency aggregation\n",
    "custmrs.groupby('age_group').agg({'add_to_cart_order' : ['mean', 'min', 'max']})"
   ]
  },
  {
   "cell_type": "markdown",
   "id": "f6b63fe8",
   "metadata": {},
   "source": [
    "#### Compare profile across departments"
   ]
  },
  {
   "cell_type": "code",
   "execution_count": 36,
   "id": "97c48ed1",
   "metadata": {},
   "outputs": [
    {
     "data": {
      "text/html": [
       "<div>\n",
       "<style scoped>\n",
       "    .dataframe tbody tr th:only-of-type {\n",
       "        vertical-align: middle;\n",
       "    }\n",
       "\n",
       "    .dataframe tbody tr th {\n",
       "        vertical-align: top;\n",
       "    }\n",
       "\n",
       "    .dataframe thead th {\n",
       "        text-align: right;\n",
       "    }\n",
       "</style>\n",
       "<table border=\"1\" class=\"dataframe\">\n",
       "  <thead>\n",
       "    <tr style=\"text-align: right;\">\n",
       "      <th>age_group</th>\n",
       "      <th>Middle-Aged</th>\n",
       "      <th>Senior</th>\n",
       "      <th>Young Adult</th>\n",
       "    </tr>\n",
       "    <tr>\n",
       "      <th>department</th>\n",
       "      <th></th>\n",
       "      <th></th>\n",
       "      <th></th>\n",
       "    </tr>\n",
       "  </thead>\n",
       "  <tbody>\n",
       "    <tr>\n",
       "      <th>alcohol</th>\n",
       "      <td>0.004650</td>\n",
       "      <td>0.004477</td>\n",
       "      <td>0.004843</td>\n",
       "    </tr>\n",
       "    <tr>\n",
       "      <th>babies</th>\n",
       "      <td>0.013445</td>\n",
       "      <td>0.012959</td>\n",
       "      <td>0.013263</td>\n",
       "    </tr>\n",
       "    <tr>\n",
       "      <th>bakery</th>\n",
       "      <td>0.036255</td>\n",
       "      <td>0.036117</td>\n",
       "      <td>0.036193</td>\n",
       "    </tr>\n",
       "    <tr>\n",
       "      <th>beverages</th>\n",
       "      <td>0.083750</td>\n",
       "      <td>0.083462</td>\n",
       "      <td>0.081966</td>\n",
       "    </tr>\n",
       "    <tr>\n",
       "      <th>breakfast</th>\n",
       "      <td>0.021779</td>\n",
       "      <td>0.021389</td>\n",
       "      <td>0.021747</td>\n",
       "    </tr>\n",
       "    <tr>\n",
       "      <th>bulk</th>\n",
       "      <td>0.001064</td>\n",
       "      <td>0.001091</td>\n",
       "      <td>0.001090</td>\n",
       "    </tr>\n",
       "    <tr>\n",
       "      <th>canned goods</th>\n",
       "      <td>0.032622</td>\n",
       "      <td>0.032641</td>\n",
       "      <td>0.032791</td>\n",
       "    </tr>\n",
       "    <tr>\n",
       "      <th>dairy eggs</th>\n",
       "      <td>0.166542</td>\n",
       "      <td>0.166929</td>\n",
       "      <td>0.168147</td>\n",
       "    </tr>\n",
       "    <tr>\n",
       "      <th>deli</th>\n",
       "      <td>0.032451</td>\n",
       "      <td>0.032359</td>\n",
       "      <td>0.032428</td>\n",
       "    </tr>\n",
       "    <tr>\n",
       "      <th>dry goods pasta</th>\n",
       "      <td>0.026547</td>\n",
       "      <td>0.026516</td>\n",
       "      <td>0.026582</td>\n",
       "    </tr>\n",
       "    <tr>\n",
       "      <th>frozen</th>\n",
       "      <td>0.068629</td>\n",
       "      <td>0.068848</td>\n",
       "      <td>0.068148</td>\n",
       "    </tr>\n",
       "    <tr>\n",
       "      <th>household</th>\n",
       "      <td>0.022647</td>\n",
       "      <td>0.022772</td>\n",
       "      <td>0.022419</td>\n",
       "    </tr>\n",
       "    <tr>\n",
       "      <th>international</th>\n",
       "      <td>0.008257</td>\n",
       "      <td>0.008199</td>\n",
       "      <td>0.008331</td>\n",
       "    </tr>\n",
       "    <tr>\n",
       "      <th>meat seafood</th>\n",
       "      <td>0.021739</td>\n",
       "      <td>0.022103</td>\n",
       "      <td>0.021612</td>\n",
       "    </tr>\n",
       "    <tr>\n",
       "      <th>missing</th>\n",
       "      <td>0.002095</td>\n",
       "      <td>0.002064</td>\n",
       "      <td>0.002110</td>\n",
       "    </tr>\n",
       "    <tr>\n",
       "      <th>other</th>\n",
       "      <td>0.001103</td>\n",
       "      <td>0.001092</td>\n",
       "      <td>0.001136</td>\n",
       "    </tr>\n",
       "    <tr>\n",
       "      <th>pantry</th>\n",
       "      <td>0.057681</td>\n",
       "      <td>0.057639</td>\n",
       "      <td>0.057399</td>\n",
       "    </tr>\n",
       "    <tr>\n",
       "      <th>personal care</th>\n",
       "      <td>0.013917</td>\n",
       "      <td>0.013550</td>\n",
       "      <td>0.013578</td>\n",
       "    </tr>\n",
       "    <tr>\n",
       "      <th>pets</th>\n",
       "      <td>0.002976</td>\n",
       "      <td>0.003064</td>\n",
       "      <td>0.002993</td>\n",
       "    </tr>\n",
       "    <tr>\n",
       "      <th>produce</th>\n",
       "      <td>0.292659</td>\n",
       "      <td>0.293831</td>\n",
       "      <td>0.293373</td>\n",
       "    </tr>\n",
       "    <tr>\n",
       "      <th>snacks</th>\n",
       "      <td>0.089192</td>\n",
       "      <td>0.088896</td>\n",
       "      <td>0.089853</td>\n",
       "    </tr>\n",
       "  </tbody>\n",
       "</table>\n",
       "</div>"
      ],
      "text/plain": [
       "age_group        Middle-Aged    Senior  Young Adult\n",
       "department                                         \n",
       "alcohol             0.004650  0.004477     0.004843\n",
       "babies              0.013445  0.012959     0.013263\n",
       "bakery              0.036255  0.036117     0.036193\n",
       "beverages           0.083750  0.083462     0.081966\n",
       "breakfast           0.021779  0.021389     0.021747\n",
       "bulk                0.001064  0.001091     0.001090\n",
       "canned goods        0.032622  0.032641     0.032791\n",
       "dairy eggs          0.166542  0.166929     0.168147\n",
       "deli                0.032451  0.032359     0.032428\n",
       "dry goods pasta     0.026547  0.026516     0.026582\n",
       "frozen              0.068629  0.068848     0.068148\n",
       "household           0.022647  0.022772     0.022419\n",
       "international       0.008257  0.008199     0.008331\n",
       "meat seafood        0.021739  0.022103     0.021612\n",
       "missing             0.002095  0.002064     0.002110\n",
       "other               0.001103  0.001092     0.001136\n",
       "pantry              0.057681  0.057639     0.057399\n",
       "personal care       0.013917  0.013550     0.013578\n",
       "pets                0.002976  0.003064     0.002993\n",
       "produce             0.292659  0.293831     0.293373\n",
       "snacks              0.089192  0.088896     0.089853"
      ]
     },
     "execution_count": 36,
     "metadata": {},
     "output_type": "execute_result"
    }
   ],
   "source": [
    "# Compare Age groups across departments\n",
    "ct_income_department = pd.crosstab(custmrs['department'], custmrs['age_group'], dropna = False, normalize = 'columns')\n",
    "ct_income_department"
   ]
  },
  {
   "cell_type": "markdown",
   "id": "b3166394",
   "metadata": {},
   "source": [
    "#### Create a suitable chart"
   ]
  },
  {
   "cell_type": "code",
   "execution_count": 37,
   "id": "85970bd6",
   "metadata": {},
   "outputs": [
    {
     "data": {
      "text/plain": [
       "Text(0.5, 0, 'Regions')"
      ]
     },
     "execution_count": 37,
     "metadata": {},
     "output_type": "execute_result"
    },
    {
     "data": {
      "image/png": "[encoded data removed]",
      "text/plain": [
       "<Figure size 640x480 with 1 Axes>"
      ]
     },
     "metadata": {},
     "output_type": "display_data"
    }
   ],
   "source": [
    "# Create bar chart for Age group across regions\n",
    "bar_chart_age_by_region = crosstab_age_by_region.plot (kind='bar', rot = 0, color = ['blue', 'grey', 'pink'])\n",
    "bar_chart_age_by_region.legend(title = 'Age Group', bbox_to_anchor = (1, 1.02), loc = 'upper left')\n",
    "plt.title('Age Groups Across Regions', fontsize = 20)\n",
    "plt.ylabel('Frequency (in millions)')\n",
    "plt.xlabel('Regions')"
   ]
  },
  {
   "cell_type": "markdown",
   "id": "18773010",
   "metadata": {},
   "source": [
    "#### Alcohol category"
   ]
  },
  {
   "cell_type": "code",
   "execution_count": 38,
   "id": "8fc99a5c",
   "metadata": {},
   "outputs": [],
   "source": [
    "#create conditions for 'alcohol' Bar graph\n",
    "custmrs.loc[custmrs['department'] == 'alcohol', 'buys_alcohol'] = 'Alcohol purchased'"
   ]
  },
  {
   "cell_type": "code",
   "execution_count": 39,
   "id": "e833850d",
   "metadata": {},
   "outputs": [],
   "source": [
    "#create conditions for 'alcohol' Pie chart\n",
    "custmrs.loc[custmrs['department'] =='alcohol', 'alcohol_purchase'] = 'Yes'\n",
    "custmrs.loc[custmrs['department'] !='alcohol', 'alcohol_purchase'] = 'No'"
   ]
  },
  {
   "cell_type": "code",
   "execution_count": 40,
   "id": "d8808508",
   "metadata": {},
   "outputs": [
    {
     "data": {
      "text/plain": [
       "NaN                  30819937\n",
       "Alcohol purchased      144627\n",
       "Name: buys_alcohol, dtype: int64"
      ]
     },
     "execution_count": 40,
     "metadata": {},
     "output_type": "execute_result"
    }
   ],
   "source": [
    "custmrs['buys_alcohol'].value_counts(dropna = False)"
   ]
  },
  {
   "cell_type": "code",
   "execution_count": 41,
   "id": "998c9bc3",
   "metadata": {},
   "outputs": [
    {
     "data": {
      "text/plain": [
       "Text(0.5, 1.0, 'Customers Who Purchase Alcohol')"
      ]
     },
     "execution_count": 41,
     "metadata": {},
     "output_type": "execute_result"
    },
    {
     "data": {
      "image/png": "[encoded data removed]",
      "text/plain": [
       "<Figure size 640x480 with 1 Axes>"
      ]
     },
     "metadata": {},
     "output_type": "display_data"
    }
   ],
   "source": [
    "# Pie chart for alcohol purchases\n",
    "alcohol_purchase_pie = custmrs['alcohol_purchase'].value_counts().plot.pie(labels = ['No Alcohol Purchase', 'Alcohol Purchase'], autopct=('%.2f%%'), colors = ['steelblue', 'lightsteelblue'], label = '')\n",
    "plt.title(\"Customers Who Purchase Alcohol\", fontsize = '16')"
   ]
  },
  {
   "cell_type": "code",
   "execution_count": 42,
   "id": "5e4afd17",
   "metadata": {},
   "outputs": [],
   "source": [
    "#crosstab on certain goods and regions\n",
    "crosstab__certain_goods_regions = pd.crosstab (custmrs['region'], custmrs['buys_alcohol'], dropna = False)"
   ]
  },
  {
   "cell_type": "code",
   "execution_count": 43,
   "id": "aad526b5",
   "metadata": {},
   "outputs": [
    {
     "data": {
      "text/html": [
       "<div>\n",
       "<style scoped>\n",
       "    .dataframe tbody tr th:only-of-type {\n",
       "        vertical-align: middle;\n",
       "    }\n",
       "\n",
       "    .dataframe tbody tr th {\n",
       "        vertical-align: top;\n",
       "    }\n",
       "\n",
       "    .dataframe thead th {\n",
       "        text-align: right;\n",
       "    }\n",
       "</style>\n",
       "<table border=\"1\" class=\"dataframe\">\n",
       "  <thead>\n",
       "    <tr style=\"text-align: right;\">\n",
       "      <th>buys_alcohol</th>\n",
       "      <th>Alcohol purchased</th>\n",
       "    </tr>\n",
       "    <tr>\n",
       "      <th>region</th>\n",
       "      <th></th>\n",
       "    </tr>\n",
       "  </thead>\n",
       "  <tbody>\n",
       "    <tr>\n",
       "      <th>Midwest</th>\n",
       "      <td>34043</td>\n",
       "    </tr>\n",
       "    <tr>\n",
       "      <th>Northeast</th>\n",
       "      <td>25017</td>\n",
       "    </tr>\n",
       "    <tr>\n",
       "      <th>South</th>\n",
       "      <td>48813</td>\n",
       "    </tr>\n",
       "    <tr>\n",
       "      <th>West</th>\n",
       "      <td>36754</td>\n",
       "    </tr>\n",
       "  </tbody>\n",
       "</table>\n",
       "</div>"
      ],
      "text/plain": [
       "buys_alcohol  Alcohol purchased\n",
       "region                         \n",
       "Midwest                   34043\n",
       "Northeast                 25017\n",
       "South                     48813\n",
       "West                      36754"
      ]
     },
     "execution_count": 43,
     "metadata": {},
     "output_type": "execute_result"
    }
   ],
   "source": [
    "crosstab__certain_goods_regions"
   ]
  },
  {
   "cell_type": "markdown",
   "id": "1fa19981",
   "metadata": {},
   "source": [
    "#### Aggregate max, mean, min"
   ]
  },
  {
   "cell_type": "code",
   "execution_count": 44,
   "id": "be03f92b",
   "metadata": {},
   "outputs": [
    {
     "data": {
      "text/html": [
       "<div>\n",
       "<style scoped>\n",
       "    .dataframe tbody tr th:only-of-type {\n",
       "        vertical-align: middle;\n",
       "    }\n",
       "\n",
       "    .dataframe tbody tr th {\n",
       "        vertical-align: top;\n",
       "    }\n",
       "\n",
       "    .dataframe thead tr th {\n",
       "        text-align: left;\n",
       "    }\n",
       "\n",
       "    .dataframe thead tr:last-of-type th {\n",
       "        text-align: right;\n",
       "    }\n",
       "</style>\n",
       "<table border=\"1\" class=\"dataframe\">\n",
       "  <thead>\n",
       "    <tr>\n",
       "      <th></th>\n",
       "      <th colspan=\"3\" halign=\"left\">prices</th>\n",
       "    </tr>\n",
       "    <tr>\n",
       "      <th></th>\n",
       "      <th>mean</th>\n",
       "      <th>min</th>\n",
       "      <th>max</th>\n",
       "    </tr>\n",
       "    <tr>\n",
       "      <th>department</th>\n",
       "      <th></th>\n",
       "      <th></th>\n",
       "      <th></th>\n",
       "    </tr>\n",
       "  </thead>\n",
       "  <tbody>\n",
       "    <tr>\n",
       "      <th>alcohol</th>\n",
       "      <td>8.150699</td>\n",
       "      <td>1.0</td>\n",
       "      <td>15.0</td>\n",
       "    </tr>\n",
       "    <tr>\n",
       "      <th>babies</th>\n",
       "      <td>7.634399</td>\n",
       "      <td>1.0</td>\n",
       "      <td>15.0</td>\n",
       "    </tr>\n",
       "    <tr>\n",
       "      <th>bakery</th>\n",
       "      <td>7.857482</td>\n",
       "      <td>1.0</td>\n",
       "      <td>15.0</td>\n",
       "    </tr>\n",
       "    <tr>\n",
       "      <th>beverages</th>\n",
       "      <td>7.682556</td>\n",
       "      <td>1.0</td>\n",
       "      <td>15.0</td>\n",
       "    </tr>\n",
       "    <tr>\n",
       "      <th>breakfast</th>\n",
       "      <td>8.031647</td>\n",
       "      <td>1.0</td>\n",
       "      <td>14.9</td>\n",
       "    </tr>\n",
       "    <tr>\n",
       "      <th>bulk</th>\n",
       "      <td>8.346919</td>\n",
       "      <td>1.4</td>\n",
       "      <td>14.1</td>\n",
       "    </tr>\n",
       "    <tr>\n",
       "      <th>canned goods</th>\n",
       "      <td>7.546660</td>\n",
       "      <td>1.0</td>\n",
       "      <td>15.0</td>\n",
       "    </tr>\n",
       "    <tr>\n",
       "      <th>dairy eggs</th>\n",
       "      <td>8.330997</td>\n",
       "      <td>1.0</td>\n",
       "      <td>15.0</td>\n",
       "    </tr>\n",
       "    <tr>\n",
       "      <th>deli</th>\n",
       "      <td>7.783347</td>\n",
       "      <td>1.0</td>\n",
       "      <td>15.0</td>\n",
       "    </tr>\n",
       "    <tr>\n",
       "      <th>dry goods pasta</th>\n",
       "      <td>7.349370</td>\n",
       "      <td>1.0</td>\n",
       "      <td>15.0</td>\n",
       "    </tr>\n",
       "    <tr>\n",
       "      <th>frozen</th>\n",
       "      <td>7.733725</td>\n",
       "      <td>1.0</td>\n",
       "      <td>15.0</td>\n",
       "    </tr>\n",
       "    <tr>\n",
       "      <th>household</th>\n",
       "      <td>7.379951</td>\n",
       "      <td>1.0</td>\n",
       "      <td>15.0</td>\n",
       "    </tr>\n",
       "    <tr>\n",
       "      <th>international</th>\n",
       "      <td>7.678797</td>\n",
       "      <td>1.0</td>\n",
       "      <td>15.0</td>\n",
       "    </tr>\n",
       "    <tr>\n",
       "      <th>meat seafood</th>\n",
       "      <td>16.300034</td>\n",
       "      <td>8.0</td>\n",
       "      <td>25.0</td>\n",
       "    </tr>\n",
       "    <tr>\n",
       "      <th>missing</th>\n",
       "      <td>8.660655</td>\n",
       "      <td>1.0</td>\n",
       "      <td>15.0</td>\n",
       "    </tr>\n",
       "    <tr>\n",
       "      <th>other</th>\n",
       "      <td>6.961995</td>\n",
       "      <td>1.1</td>\n",
       "      <td>15.0</td>\n",
       "    </tr>\n",
       "    <tr>\n",
       "      <th>pantry</th>\n",
       "      <td>8.014482</td>\n",
       "      <td>1.0</td>\n",
       "      <td>20.0</td>\n",
       "    </tr>\n",
       "    <tr>\n",
       "      <th>personal care</th>\n",
       "      <td>7.998744</td>\n",
       "      <td>1.0</td>\n",
       "      <td>15.0</td>\n",
       "    </tr>\n",
       "    <tr>\n",
       "      <th>pets</th>\n",
       "      <td>7.887489</td>\n",
       "      <td>1.0</td>\n",
       "      <td>15.0</td>\n",
       "    </tr>\n",
       "    <tr>\n",
       "      <th>produce</th>\n",
       "      <td>7.980348</td>\n",
       "      <td>1.0</td>\n",
       "      <td>15.0</td>\n",
       "    </tr>\n",
       "    <tr>\n",
       "      <th>snacks</th>\n",
       "      <td>4.275555</td>\n",
       "      <td>1.6</td>\n",
       "      <td>7.0</td>\n",
       "    </tr>\n",
       "  </tbody>\n",
       "</table>\n",
       "</div>"
      ],
      "text/plain": [
       "                    prices           \n",
       "                      mean  min   max\n",
       "department                           \n",
       "alcohol           8.150699  1.0  15.0\n",
       "babies            7.634399  1.0  15.0\n",
       "bakery            7.857482  1.0  15.0\n",
       "beverages         7.682556  1.0  15.0\n",
       "breakfast         8.031647  1.0  14.9\n",
       "bulk              8.346919  1.4  14.1\n",
       "canned goods      7.546660  1.0  15.0\n",
       "dairy eggs        8.330997  1.0  15.0\n",
       "deli              7.783347  1.0  15.0\n",
       "dry goods pasta   7.349370  1.0  15.0\n",
       "frozen            7.733725  1.0  15.0\n",
       "household         7.379951  1.0  15.0\n",
       "international     7.678797  1.0  15.0\n",
       "meat seafood     16.300034  8.0  25.0\n",
       "missing           8.660655  1.0  15.0\n",
       "other             6.961995  1.1  15.0\n",
       "pantry            8.014482  1.0  20.0\n",
       "personal care     7.998744  1.0  15.0\n",
       "pets              7.887489  1.0  15.0\n",
       "produce           7.980348  1.0  15.0\n",
       "snacks            4.275555  1.6   7.0"
      ]
     },
     "execution_count": 44,
     "metadata": {},
     "output_type": "execute_result"
    }
   ],
   "source": [
    "# Department category expenditure aggregation\n",
    "custmrs.groupby('department').agg({'prices' : ['mean', 'min', 'max']})"
   ]
  },
  {
   "cell_type": "code",
   "execution_count": 45,
   "id": "f5daeb5a",
   "metadata": {},
   "outputs": [
    {
     "data": {
      "text/html": [
       "<div>\n",
       "<style scoped>\n",
       "    .dataframe tbody tr th:only-of-type {\n",
       "        vertical-align: middle;\n",
       "    }\n",
       "\n",
       "    .dataframe tbody tr th {\n",
       "        vertical-align: top;\n",
       "    }\n",
       "\n",
       "    .dataframe thead tr th {\n",
       "        text-align: left;\n",
       "    }\n",
       "\n",
       "    .dataframe thead tr:last-of-type th {\n",
       "        text-align: right;\n",
       "    }\n",
       "</style>\n",
       "<table border=\"1\" class=\"dataframe\">\n",
       "  <thead>\n",
       "    <tr>\n",
       "      <th></th>\n",
       "      <th colspan=\"3\" halign=\"left\">add_to_cart_order</th>\n",
       "    </tr>\n",
       "    <tr>\n",
       "      <th></th>\n",
       "      <th>mean</th>\n",
       "      <th>min</th>\n",
       "      <th>max</th>\n",
       "    </tr>\n",
       "    <tr>\n",
       "      <th>department</th>\n",
       "      <th></th>\n",
       "      <th></th>\n",
       "      <th></th>\n",
       "    </tr>\n",
       "  </thead>\n",
       "  <tbody>\n",
       "    <tr>\n",
       "      <th>alcohol</th>\n",
       "      <td>5.444578</td>\n",
       "      <td>1</td>\n",
       "      <td>90</td>\n",
       "    </tr>\n",
       "    <tr>\n",
       "      <th>babies</th>\n",
       "      <td>10.577894</td>\n",
       "      <td>1</td>\n",
       "      <td>92</td>\n",
       "    </tr>\n",
       "    <tr>\n",
       "      <th>bakery</th>\n",
       "      <td>8.100412</td>\n",
       "      <td>1</td>\n",
       "      <td>127</td>\n",
       "    </tr>\n",
       "    <tr>\n",
       "      <th>beverages</th>\n",
       "      <td>6.988362</td>\n",
       "      <td>1</td>\n",
       "      <td>145</td>\n",
       "    </tr>\n",
       "    <tr>\n",
       "      <th>breakfast</th>\n",
       "      <td>9.144345</td>\n",
       "      <td>1</td>\n",
       "      <td>133</td>\n",
       "    </tr>\n",
       "    <tr>\n",
       "      <th>bulk</th>\n",
       "      <td>8.394368</td>\n",
       "      <td>1</td>\n",
       "      <td>75</td>\n",
       "    </tr>\n",
       "    <tr>\n",
       "      <th>canned goods</th>\n",
       "      <td>9.969112</td>\n",
       "      <td>1</td>\n",
       "      <td>112</td>\n",
       "    </tr>\n",
       "    <tr>\n",
       "      <th>dairy eggs</th>\n",
       "      <td>7.504307</td>\n",
       "      <td>1</td>\n",
       "      <td>137</td>\n",
       "    </tr>\n",
       "    <tr>\n",
       "      <th>deli</th>\n",
       "      <td>8.709131</td>\n",
       "      <td>1</td>\n",
       "      <td>142</td>\n",
       "    </tr>\n",
       "    <tr>\n",
       "      <th>dry goods pasta</th>\n",
       "      <td>10.233058</td>\n",
       "      <td>1</td>\n",
       "      <td>104</td>\n",
       "    </tr>\n",
       "    <tr>\n",
       "      <th>frozen</th>\n",
       "      <td>9.012000</td>\n",
       "      <td>1</td>\n",
       "      <td>141</td>\n",
       "    </tr>\n",
       "    <tr>\n",
       "      <th>household</th>\n",
       "      <td>8.523310</td>\n",
       "      <td>1</td>\n",
       "      <td>115</td>\n",
       "    </tr>\n",
       "    <tr>\n",
       "      <th>international</th>\n",
       "      <td>9.955030</td>\n",
       "      <td>1</td>\n",
       "      <td>119</td>\n",
       "    </tr>\n",
       "    <tr>\n",
       "      <th>meat seafood</th>\n",
       "      <td>8.546441</td>\n",
       "      <td>1</td>\n",
       "      <td>133</td>\n",
       "    </tr>\n",
       "    <tr>\n",
       "      <th>missing</th>\n",
       "      <td>9.347255</td>\n",
       "      <td>1</td>\n",
       "      <td>95</td>\n",
       "    </tr>\n",
       "    <tr>\n",
       "      <th>other</th>\n",
       "      <td>8.283107</td>\n",
       "      <td>1</td>\n",
       "      <td>81</td>\n",
       "    </tr>\n",
       "    <tr>\n",
       "      <th>pantry</th>\n",
       "      <td>9.606539</td>\n",
       "      <td>1</td>\n",
       "      <td>136</td>\n",
       "    </tr>\n",
       "    <tr>\n",
       "      <th>personal care</th>\n",
       "      <td>8.779944</td>\n",
       "      <td>1</td>\n",
       "      <td>125</td>\n",
       "    </tr>\n",
       "    <tr>\n",
       "      <th>pets</th>\n",
       "      <td>7.736331</td>\n",
       "      <td>1</td>\n",
       "      <td>121</td>\n",
       "    </tr>\n",
       "    <tr>\n",
       "      <th>produce</th>\n",
       "      <td>8.035116</td>\n",
       "      <td>1</td>\n",
       "      <td>139</td>\n",
       "    </tr>\n",
       "    <tr>\n",
       "      <th>snacks</th>\n",
       "      <td>9.199468</td>\n",
       "      <td>1</td>\n",
       "      <td>144</td>\n",
       "    </tr>\n",
       "  </tbody>\n",
       "</table>\n",
       "</div>"
      ],
      "text/plain": [
       "                add_to_cart_order         \n",
       "                             mean min  max\n",
       "department                                \n",
       "alcohol                  5.444578   1   90\n",
       "babies                  10.577894   1   92\n",
       "bakery                   8.100412   1  127\n",
       "beverages                6.988362   1  145\n",
       "breakfast                9.144345   1  133\n",
       "bulk                     8.394368   1   75\n",
       "canned goods             9.969112   1  112\n",
       "dairy eggs               7.504307   1  137\n",
       "deli                     8.709131   1  142\n",
       "dry goods pasta         10.233058   1  104\n",
       "frozen                   9.012000   1  141\n",
       "household                8.523310   1  115\n",
       "international            9.955030   1  119\n",
       "meat seafood             8.546441   1  133\n",
       "missing                  9.347255   1   95\n",
       "other                    8.283107   1   81\n",
       "pantry                   9.606539   1  136\n",
       "personal care            8.779944   1  125\n",
       "pets                     7.736331   1  121\n",
       "produce                  8.035116   1  139\n",
       "snacks                   9.199468   1  144"
      ]
     },
     "execution_count": 45,
     "metadata": {},
     "output_type": "execute_result"
    }
   ],
   "source": [
    "#Department category frequency aggregation\n",
    "custmrs.groupby('department').agg({'add_to_cart_order' : ['mean', 'min', 'max']})"
   ]
  },
  {
   "cell_type": "markdown",
   "id": "83e5e281",
   "metadata": {},
   "source": [
    "#### Create a suitable graph"
   ]
  },
  {
   "cell_type": "code",
   "execution_count": 46,
   "id": "64de1e56",
   "metadata": {},
   "outputs": [
    {
     "data": {
      "text/plain": [
       "Text(0.5, 0, 'Regions')"
      ]
     },
     "execution_count": 46,
     "metadata": {},
     "output_type": "execute_result"
    },
    {
     "data": {
      "image/png": "[encoded data removed]",
      "text/plain": [
       "<Figure size 640x480 with 1 Axes>"
      ]
     },
     "metadata": {},
     "output_type": "display_data"
    }
   ],
   "source": [
    "# Create bar graph for Alcohol purchases acros regions\n",
    "certain_good_regions_chart = crosstab__certain_goods_regions.plot(kind='bar')\n",
    "certain_good_regions_chart.legend(bbox_to_anchor = (1, 1.02), loc = 'upper left')\n",
    "plt.title('Alcohol Purchases Across Regions', fontsize = 20)\n",
    "plt.ylabel('Frequency')\n",
    "plt.xlabel('Regions')"
   ]
  },
  {
   "cell_type": "markdown",
   "id": "34a7fb3f",
   "metadata": {},
   "source": [
    "### Income"
   ]
  },
  {
   "cell_type": "code",
   "execution_count": 47,
   "id": "aa864b4d",
   "metadata": {},
   "outputs": [
    {
     "data": {
      "text/plain": [
       "count    3.096456e+07\n",
       "mean     9.967587e+04\n",
       "std      4.314187e+04\n",
       "min      2.590300e+04\n",
       "25%      6.729200e+04\n",
       "50%      9.676500e+04\n",
       "75%      1.281020e+05\n",
       "max      5.939010e+05\n",
       "Name: income, dtype: float64"
      ]
     },
     "execution_count": 47,
     "metadata": {},
     "output_type": "execute_result"
    }
   ],
   "source": [
    "# Check descriptive statistics\n",
    "custmrs['income'].describe()"
   ]
  },
  {
   "cell_type": "markdown",
   "id": "bd635406",
   "metadata": {},
   "source": [
    "#### The grouping of income will be divided  as follows:\n",
    "- Low : < 50,000\n",
    "- Middle : 50,000 - 150,000\n",
    "- High : > 150,000"
   ]
  },
  {
   "cell_type": "code",
   "execution_count": 48,
   "id": "e32efe13",
   "metadata": {},
   "outputs": [],
   "source": [
    "# Create the income groups\n",
    "custmrs.loc[custmrs['income'] < 50000, 'income_group'] = 'Low'\n",
    "custmrs.loc[(custmrs['income'] >= 50000) & (custmrs['income'] < 150000), 'income_group'] = 'Middle'\n",
    "custmrs.loc[custmrs['income'] >= 150000, 'income_group'] = 'High'"
   ]
  },
  {
   "cell_type": "code",
   "execution_count": 49,
   "id": "38b7e5a2",
   "metadata": {},
   "outputs": [
    {
     "data": {
      "text/plain": [
       "Middle    23706735\n",
       "High       3895275\n",
       "Low        3362554\n",
       "Name: income_group, dtype: int64"
      ]
     },
     "execution_count": 49,
     "metadata": {},
     "output_type": "execute_result"
    }
   ],
   "source": [
    "# Check income group count\n",
    "custmrs['income_group'].value_counts(dropna = False)"
   ]
  },
  {
   "cell_type": "code",
   "execution_count": 50,
   "id": "b5452c74",
   "metadata": {},
   "outputs": [
    {
     "data": {
      "text/plain": [
       "Text(0.5, 1.0, 'Customer Income Categories')"
      ]
     },
     "execution_count": 50,
     "metadata": {},
     "output_type": "execute_result"
    },
    {
     "data": {
      "image/png": "[encoded data removed]",
      "text/plain": [
       "<Figure size 640x480 with 1 Axes>"
      ]
     },
     "metadata": {},
     "output_type": "display_data"
    }
   ],
   "source": [
    "# Pie chart for customer income categories\n",
    "income_category_pie = custmrs['income_group'].value_counts().plot.pie(labels = ['Middle_income', 'Low_income',\\\n",
    "                    'Upper_income'], autopct=('%.2f%%'), colors = ['royalblue', 'deepskyblue', 'lightsteelblue'], label = '')\n",
    "plt.title(\"Customer Income Categories\", fontsize = '16')"
   ]
  },
  {
   "cell_type": "code",
   "execution_count": 51,
   "id": "c5eb04cc",
   "metadata": {},
   "outputs": [],
   "source": [
    "#crosstab on region and income_statues\n",
    "crosstab__region_by_income = pd.crosstab (custmrs['region'], custmrs['income_group'], dropna = False)"
   ]
  },
  {
   "cell_type": "code",
   "execution_count": 52,
   "id": "192d6093",
   "metadata": {},
   "outputs": [
    {
     "data": {
      "text/html": [
       "<div>\n",
       "<style scoped>\n",
       "    .dataframe tbody tr th:only-of-type {\n",
       "        vertical-align: middle;\n",
       "    }\n",
       "\n",
       "    .dataframe tbody tr th {\n",
       "        vertical-align: top;\n",
       "    }\n",
       "\n",
       "    .dataframe thead th {\n",
       "        text-align: right;\n",
       "    }\n",
       "</style>\n",
       "<table border=\"1\" class=\"dataframe\">\n",
       "  <thead>\n",
       "    <tr style=\"text-align: right;\">\n",
       "      <th>income_group</th>\n",
       "      <th>High</th>\n",
       "      <th>Low</th>\n",
       "      <th>Middle</th>\n",
       "    </tr>\n",
       "    <tr>\n",
       "      <th>region</th>\n",
       "      <th></th>\n",
       "      <th></th>\n",
       "      <th></th>\n",
       "    </tr>\n",
       "  </thead>\n",
       "  <tbody>\n",
       "    <tr>\n",
       "      <th>Midwest</th>\n",
       "      <td>917495</td>\n",
       "      <td>783764</td>\n",
       "      <td>5560254</td>\n",
       "    </tr>\n",
       "    <tr>\n",
       "      <th>Northeast</th>\n",
       "      <td>677730</td>\n",
       "      <td>587137</td>\n",
       "      <td>4199818</td>\n",
       "    </tr>\n",
       "    <tr>\n",
       "      <th>South</th>\n",
       "      <td>1290460</td>\n",
       "      <td>1142572</td>\n",
       "      <td>7878107</td>\n",
       "    </tr>\n",
       "    <tr>\n",
       "      <th>West</th>\n",
       "      <td>1009590</td>\n",
       "      <td>849081</td>\n",
       "      <td>6068556</td>\n",
       "    </tr>\n",
       "  </tbody>\n",
       "</table>\n",
       "</div>"
      ],
      "text/plain": [
       "income_group     High      Low   Middle\n",
       "region                                 \n",
       "Midwest        917495   783764  5560254\n",
       "Northeast      677730   587137  4199818\n",
       "South         1290460  1142572  7878107\n",
       "West          1009590   849081  6068556"
      ]
     },
     "execution_count": 52,
     "metadata": {},
     "output_type": "execute_result"
    }
   ],
   "source": [
    "crosstab__region_by_income"
   ]
  },
  {
   "cell_type": "markdown",
   "id": "8b0c2e12",
   "metadata": {},
   "source": [
    "#### Aggregate max, mean, min"
   ]
  },
  {
   "cell_type": "code",
   "execution_count": 53,
   "id": "51c77b5b",
   "metadata": {},
   "outputs": [
    {
     "data": {
      "text/html": [
       "<div>\n",
       "<style scoped>\n",
       "    .dataframe tbody tr th:only-of-type {\n",
       "        vertical-align: middle;\n",
       "    }\n",
       "\n",
       "    .dataframe tbody tr th {\n",
       "        vertical-align: top;\n",
       "    }\n",
       "\n",
       "    .dataframe thead tr th {\n",
       "        text-align: left;\n",
       "    }\n",
       "\n",
       "    .dataframe thead tr:last-of-type th {\n",
       "        text-align: right;\n",
       "    }\n",
       "</style>\n",
       "<table border=\"1\" class=\"dataframe\">\n",
       "  <thead>\n",
       "    <tr>\n",
       "      <th></th>\n",
       "      <th colspan=\"3\" halign=\"left\">prices</th>\n",
       "    </tr>\n",
       "    <tr>\n",
       "      <th></th>\n",
       "      <th>mean</th>\n",
       "      <th>min</th>\n",
       "      <th>max</th>\n",
       "    </tr>\n",
       "    <tr>\n",
       "      <th>income_group</th>\n",
       "      <th></th>\n",
       "      <th></th>\n",
       "      <th></th>\n",
       "    </tr>\n",
       "  </thead>\n",
       "  <tbody>\n",
       "    <tr>\n",
       "      <th>High</th>\n",
       "      <td>7.935695</td>\n",
       "      <td>1.0</td>\n",
       "      <td>25.0</td>\n",
       "    </tr>\n",
       "    <tr>\n",
       "      <th>Low</th>\n",
       "      <td>6.707347</td>\n",
       "      <td>1.0</td>\n",
       "      <td>25.0</td>\n",
       "    </tr>\n",
       "    <tr>\n",
       "      <th>Middle</th>\n",
       "      <td>7.919333</td>\n",
       "      <td>1.0</td>\n",
       "      <td>25.0</td>\n",
       "    </tr>\n",
       "  </tbody>\n",
       "</table>\n",
       "</div>"
      ],
      "text/plain": [
       "                prices           \n",
       "                  mean  min   max\n",
       "income_group                     \n",
       "High          7.935695  1.0  25.0\n",
       "Low           6.707347  1.0  25.0\n",
       "Middle        7.919333  1.0  25.0"
      ]
     },
     "execution_count": 53,
     "metadata": {},
     "output_type": "execute_result"
    }
   ],
   "source": [
    "#income category expenditure aggregation\n",
    "custmrs.groupby('income_group').agg({'prices' : ['mean', 'min', 'max']})"
   ]
  },
  {
   "cell_type": "code",
   "execution_count": 54,
   "id": "8618b6f1",
   "metadata": {},
   "outputs": [
    {
     "data": {
      "text/html": [
       "<div>\n",
       "<style scoped>\n",
       "    .dataframe tbody tr th:only-of-type {\n",
       "        vertical-align: middle;\n",
       "    }\n",
       "\n",
       "    .dataframe tbody tr th {\n",
       "        vertical-align: top;\n",
       "    }\n",
       "\n",
       "    .dataframe thead tr th {\n",
       "        text-align: left;\n",
       "    }\n",
       "\n",
       "    .dataframe thead tr:last-of-type th {\n",
       "        text-align: right;\n",
       "    }\n",
       "</style>\n",
       "<table border=\"1\" class=\"dataframe\">\n",
       "  <thead>\n",
       "    <tr>\n",
       "      <th></th>\n",
       "      <th colspan=\"3\" halign=\"left\">add_to_cart_order</th>\n",
       "    </tr>\n",
       "    <tr>\n",
       "      <th></th>\n",
       "      <th>mean</th>\n",
       "      <th>min</th>\n",
       "      <th>max</th>\n",
       "    </tr>\n",
       "    <tr>\n",
       "      <th>income_group</th>\n",
       "      <th></th>\n",
       "      <th></th>\n",
       "      <th></th>\n",
       "    </tr>\n",
       "  </thead>\n",
       "  <tbody>\n",
       "    <tr>\n",
       "      <th>High</th>\n",
       "      <td>8.467190</td>\n",
       "      <td>1</td>\n",
       "      <td>121</td>\n",
       "    </tr>\n",
       "    <tr>\n",
       "      <th>Low</th>\n",
       "      <td>7.320646</td>\n",
       "      <td>1</td>\n",
       "      <td>137</td>\n",
       "    </tr>\n",
       "    <tr>\n",
       "      <th>Middle</th>\n",
       "      <td>8.493778</td>\n",
       "      <td>1</td>\n",
       "      <td>145</td>\n",
       "    </tr>\n",
       "  </tbody>\n",
       "</table>\n",
       "</div>"
      ],
      "text/plain": [
       "             add_to_cart_order         \n",
       "                          mean min  max\n",
       "income_group                           \n",
       "High                  8.467190   1  121\n",
       "Low                   7.320646   1  137\n",
       "Middle                8.493778   1  145"
      ]
     },
     "execution_count": 54,
     "metadata": {},
     "output_type": "execute_result"
    }
   ],
   "source": [
    "#income category frequency aggregation\n",
    "custmrs.groupby('income_group').agg({'add_to_cart_order' : ['mean', 'min', 'max']})"
   ]
  },
  {
   "cell_type": "markdown",
   "id": "3869ca93",
   "metadata": {},
   "source": [
    "#### Compare profile across departments"
   ]
  },
  {
   "cell_type": "code",
   "execution_count": 55,
   "id": "2efe9056",
   "metadata": {},
   "outputs": [
    {
     "data": {
      "text/html": [
       "<div>\n",
       "<style scoped>\n",
       "    .dataframe tbody tr th:only-of-type {\n",
       "        vertical-align: middle;\n",
       "    }\n",
       "\n",
       "    .dataframe tbody tr th {\n",
       "        vertical-align: top;\n",
       "    }\n",
       "\n",
       "    .dataframe thead th {\n",
       "        text-align: right;\n",
       "    }\n",
       "</style>\n",
       "<table border=\"1\" class=\"dataframe\">\n",
       "  <thead>\n",
       "    <tr style=\"text-align: right;\">\n",
       "      <th>income_group</th>\n",
       "      <th>High</th>\n",
       "      <th>Low</th>\n",
       "      <th>Middle</th>\n",
       "    </tr>\n",
       "    <tr>\n",
       "      <th>department</th>\n",
       "      <th></th>\n",
       "      <th></th>\n",
       "      <th></th>\n",
       "    </tr>\n",
       "  </thead>\n",
       "  <tbody>\n",
       "    <tr>\n",
       "      <th>alcohol</th>\n",
       "      <td>0.006179</td>\n",
       "      <td>0.005367</td>\n",
       "      <td>0.004324</td>\n",
       "    </tr>\n",
       "    <tr>\n",
       "      <th>babies</th>\n",
       "      <td>0.013606</td>\n",
       "      <td>0.008696</td>\n",
       "      <td>0.013842</td>\n",
       "    </tr>\n",
       "    <tr>\n",
       "      <th>bakery</th>\n",
       "      <td>0.038109</td>\n",
       "      <td>0.031749</td>\n",
       "      <td>0.036514</td>\n",
       "    </tr>\n",
       "    <tr>\n",
       "      <th>beverages</th>\n",
       "      <td>0.080451</td>\n",
       "      <td>0.113938</td>\n",
       "      <td>0.079108</td>\n",
       "    </tr>\n",
       "    <tr>\n",
       "      <th>breakfast</th>\n",
       "      <td>0.021416</td>\n",
       "      <td>0.027184</td>\n",
       "      <td>0.020923</td>\n",
       "    </tr>\n",
       "    <tr>\n",
       "      <th>bulk</th>\n",
       "      <td>0.000942</td>\n",
       "      <td>0.001391</td>\n",
       "      <td>0.001059</td>\n",
       "    </tr>\n",
       "    <tr>\n",
       "      <th>canned goods</th>\n",
       "      <td>0.033993</td>\n",
       "      <td>0.023487</td>\n",
       "      <td>0.033775</td>\n",
       "    </tr>\n",
       "    <tr>\n",
       "      <th>dairy eggs</th>\n",
       "      <td>0.169243</td>\n",
       "      <td>0.149399</td>\n",
       "      <td>0.169385</td>\n",
       "    </tr>\n",
       "    <tr>\n",
       "      <th>deli</th>\n",
       "      <td>0.032319</td>\n",
       "      <td>0.031657</td>\n",
       "      <td>0.032543</td>\n",
       "    </tr>\n",
       "    <tr>\n",
       "      <th>dry goods pasta</th>\n",
       "      <td>0.027302</td>\n",
       "      <td>0.019176</td>\n",
       "      <td>0.027473</td>\n",
       "    </tr>\n",
       "    <tr>\n",
       "      <th>frozen</th>\n",
       "      <td>0.070966</td>\n",
       "      <td>0.063992</td>\n",
       "      <td>0.068762</td>\n",
       "    </tr>\n",
       "    <tr>\n",
       "      <th>household</th>\n",
       "      <td>0.023793</td>\n",
       "      <td>0.025937</td>\n",
       "      <td>0.021933</td>\n",
       "    </tr>\n",
       "    <tr>\n",
       "      <th>international</th>\n",
       "      <td>0.008427</td>\n",
       "      <td>0.006434</td>\n",
       "      <td>0.008501</td>\n",
       "    </tr>\n",
       "    <tr>\n",
       "      <th>meat seafood</th>\n",
       "      <td>0.023496</td>\n",
       "      <td>0.010194</td>\n",
       "      <td>0.023157</td>\n",
       "    </tr>\n",
       "    <tr>\n",
       "      <th>missing</th>\n",
       "      <td>0.002119</td>\n",
       "      <td>0.001947</td>\n",
       "      <td>0.002108</td>\n",
       "    </tr>\n",
       "    <tr>\n",
       "      <th>other</th>\n",
       "      <td>0.001169</td>\n",
       "      <td>0.001156</td>\n",
       "      <td>0.001096</td>\n",
       "    </tr>\n",
       "    <tr>\n",
       "      <th>pantry</th>\n",
       "      <td>0.059543</td>\n",
       "      <td>0.049385</td>\n",
       "      <td>0.058410</td>\n",
       "    </tr>\n",
       "    <tr>\n",
       "      <th>personal care</th>\n",
       "      <td>0.013743</td>\n",
       "      <td>0.014210</td>\n",
       "      <td>0.013625</td>\n",
       "    </tr>\n",
       "    <tr>\n",
       "      <th>pets</th>\n",
       "      <td>0.003335</td>\n",
       "      <td>0.002561</td>\n",
       "      <td>0.003014</td>\n",
       "    </tr>\n",
       "    <tr>\n",
       "      <th>produce</th>\n",
       "      <td>0.291341</td>\n",
       "      <td>0.245740</td>\n",
       "      <td>0.300257</td>\n",
       "    </tr>\n",
       "    <tr>\n",
       "      <th>snacks</th>\n",
       "      <td>0.078507</td>\n",
       "      <td>0.166400</td>\n",
       "      <td>0.080191</td>\n",
       "    </tr>\n",
       "  </tbody>\n",
       "</table>\n",
       "</div>"
      ],
      "text/plain": [
       "income_group         High       Low    Middle\n",
       "department                                   \n",
       "alcohol          0.006179  0.005367  0.004324\n",
       "babies           0.013606  0.008696  0.013842\n",
       "bakery           0.038109  0.031749  0.036514\n",
       "beverages        0.080451  0.113938  0.079108\n",
       "breakfast        0.021416  0.027184  0.020923\n",
       "bulk             0.000942  0.001391  0.001059\n",
       "canned goods     0.033993  0.023487  0.033775\n",
       "dairy eggs       0.169243  0.149399  0.169385\n",
       "deli             0.032319  0.031657  0.032543\n",
       "dry goods pasta  0.027302  0.019176  0.027473\n",
       "frozen           0.070966  0.063992  0.068762\n",
       "household        0.023793  0.025937  0.021933\n",
       "international    0.008427  0.006434  0.008501\n",
       "meat seafood     0.023496  0.010194  0.023157\n",
       "missing          0.002119  0.001947  0.002108\n",
       "other            0.001169  0.001156  0.001096\n",
       "pantry           0.059543  0.049385  0.058410\n",
       "personal care    0.013743  0.014210  0.013625\n",
       "pets             0.003335  0.002561  0.003014\n",
       "produce          0.291341  0.245740  0.300257\n",
       "snacks           0.078507  0.166400  0.080191"
      ]
     },
     "execution_count": 55,
     "metadata": {},
     "output_type": "execute_result"
    }
   ],
   "source": [
    "# Compare income categories across departments\n",
    "ct_income_department = pd.crosstab(custmrs['department'], custmrs['income_group'], dropna = False, normalize = 'columns')\n",
    "ct_income_department"
   ]
  },
  {
   "cell_type": "markdown",
   "id": "222ca40b",
   "metadata": {},
   "source": [
    "#### Create a suitable chart"
   ]
  },
  {
   "cell_type": "code",
   "execution_count": 56,
   "id": "2ba6f4c1",
   "metadata": {
    "scrolled": true
   },
   "outputs": [
    {
     "data": {
      "text/plain": [
       "Text(0.5, 0, 'Regions')"
      ]
     },
     "execution_count": 56,
     "metadata": {},
     "output_type": "execute_result"
    },
    {
     "data": {
      "image/png": "[encoded data removed]",
      "text/plain": [
       "<Figure size 640x480 with 1 Axes>"
      ]
     },
     "metadata": {},
     "output_type": "display_data"
    }
   ],
   "source": [
    "# Bar chart for Income groups across regions\n",
    "bar_chart_income_by_region = crosstab__region_by_income.plot (kind='bar', rot = 0, color = ['grey', 'blue', 'pink'])\n",
    "bar_chart_income_by_region.legend(title = 'Income', bbox_to_anchor = (1, 1.02), loc = 'upper left')\n",
    "plt.title('Income Groups Across Regions', fontsize = 20)\n",
    "plt.ylabel('Frequency (in millions)')\n",
    "plt.xlabel('Regions')"
   ]
  },
  {
   "cell_type": "markdown",
   "id": "9ff81c43",
   "metadata": {},
   "source": [
    "### Number of Dependants"
   ]
  },
  {
   "cell_type": "code",
   "execution_count": 57,
   "id": "bfaa059d",
   "metadata": {},
   "outputs": [
    {
     "data": {
      "text/plain": [
       "count    3.096456e+07\n",
       "mean     1.501819e+00\n",
       "std      1.118896e+00\n",
       "min      0.000000e+00\n",
       "25%      1.000000e+00\n",
       "50%      2.000000e+00\n",
       "75%      3.000000e+00\n",
       "max      3.000000e+00\n",
       "Name: num_dependants, dtype: float64"
      ]
     },
     "execution_count": 57,
     "metadata": {},
     "output_type": "execute_result"
    }
   ],
   "source": [
    "# Check descriptive statistics\n",
    "custmrs['num_dependants'].describe()"
   ]
  },
  {
   "cell_type": "code",
   "execution_count": 58,
   "id": "29ab383d",
   "metadata": {},
   "outputs": [],
   "source": [
    "# Create a crosstab between number of dependants and family status\n",
    "crosstab_dependants_by_region = pd.crosstab(custmrs['region'], custmrs['num_dependants'], dropna = False)"
   ]
  },
  {
   "cell_type": "code",
   "execution_count": 59,
   "id": "9c9f078d",
   "metadata": {},
   "outputs": [
    {
     "data": {
      "text/html": [
       "<div>\n",
       "<style scoped>\n",
       "    .dataframe tbody tr th:only-of-type {\n",
       "        vertical-align: middle;\n",
       "    }\n",
       "\n",
       "    .dataframe tbody tr th {\n",
       "        vertical-align: top;\n",
       "    }\n",
       "\n",
       "    .dataframe thead th {\n",
       "        text-align: right;\n",
       "    }\n",
       "</style>\n",
       "<table border=\"1\" class=\"dataframe\">\n",
       "  <thead>\n",
       "    <tr style=\"text-align: right;\">\n",
       "      <th>num_dependants</th>\n",
       "      <th>0</th>\n",
       "      <th>1</th>\n",
       "      <th>2</th>\n",
       "      <th>3</th>\n",
       "    </tr>\n",
       "    <tr>\n",
       "      <th>region</th>\n",
       "      <th></th>\n",
       "      <th></th>\n",
       "      <th></th>\n",
       "      <th></th>\n",
       "    </tr>\n",
       "  </thead>\n",
       "  <tbody>\n",
       "    <tr>\n",
       "      <th>Midwest</th>\n",
       "      <td>1822816</td>\n",
       "      <td>1841417</td>\n",
       "      <td>1809994</td>\n",
       "      <td>1787286</td>\n",
       "    </tr>\n",
       "    <tr>\n",
       "      <th>Northeast</th>\n",
       "      <td>1354482</td>\n",
       "      <td>1377009</td>\n",
       "      <td>1351961</td>\n",
       "      <td>1381233</td>\n",
       "    </tr>\n",
       "    <tr>\n",
       "      <th>South</th>\n",
       "      <td>2581933</td>\n",
       "      <td>2539625</td>\n",
       "      <td>2603717</td>\n",
       "      <td>2585864</td>\n",
       "    </tr>\n",
       "    <tr>\n",
       "      <th>West</th>\n",
       "      <td>1980450</td>\n",
       "      <td>1961055</td>\n",
       "      <td>1967589</td>\n",
       "      <td>2018133</td>\n",
       "    </tr>\n",
       "  </tbody>\n",
       "</table>\n",
       "</div>"
      ],
      "text/plain": [
       "num_dependants        0        1        2        3\n",
       "region                                            \n",
       "Midwest         1822816  1841417  1809994  1787286\n",
       "Northeast       1354482  1377009  1351961  1381233\n",
       "South           2581933  2539625  2603717  2585864\n",
       "West            1980450  1961055  1967589  2018133"
      ]
     },
     "execution_count": 59,
     "metadata": {},
     "output_type": "execute_result"
    }
   ],
   "source": [
    "crosstab_dependants_by_region"
   ]
  },
  {
   "cell_type": "code",
   "execution_count": 60,
   "id": "cc36b9b1",
   "metadata": {},
   "outputs": [],
   "source": [
    "# Create a family size group\n",
    "custmrs.loc[custmrs['num_dependants'] == 0, 'household_size'] = 'Single Household'\n",
    "custmrs.loc[(custmrs['num_dependants'] == 1) | (custmrs['num_dependants'] == 2), 'household_size'] = 'Medium Household'\n",
    "custmrs.loc[custmrs['num_dependants'] >= 3, 'household_size'] = 'Large Household'"
   ]
  },
  {
   "cell_type": "code",
   "execution_count": 61,
   "id": "3fb03a2a",
   "metadata": {},
   "outputs": [
    {
     "data": {
      "text/plain": [
       "Medium Household    15452367\n",
       "Large Household      7772516\n",
       "Single Household     7739681\n",
       "Name: household_size, dtype: int64"
      ]
     },
     "execution_count": 61,
     "metadata": {},
     "output_type": "execute_result"
    }
   ],
   "source": [
    "# Check the dependent count\n",
    "custmrs['household_size'].value_counts(dropna = False)"
   ]
  },
  {
   "cell_type": "code",
   "execution_count": 109,
   "id": "96cb5068",
   "metadata": {},
   "outputs": [
    {
     "data": {
      "text/plain": [
       "Text(0.5, 1.0, 'Number of Dependants in Household')"
      ]
     },
     "execution_count": 109,
     "metadata": {},
     "output_type": "execute_result"
    },
    {
     "data": {
      "image/png": "[encoded data removed]",
      "text/plain": [
       "<Figure size 640x480 with 1 Axes>"
      ]
     },
     "metadata": {},
     "output_type": "display_data"
    }
   ],
   "source": [
    "# Pie chart for number of dependants in each household\n",
    "dependents_category_pie = custmrs['household_size'].value_counts().plot.pie(labels = ['1 or 2 Dependants', '3+ Dependants',\\\n",
    "                    'Zero Dependants'], autopct=('%.2f%%'), colors = ['royalblue', 'deepskyblue', 'lightsteelblue'], label = '')\n",
    "plt.title(\"Number of Dependants in Household\", fontsize = '16')"
   ]
  },
  {
   "cell_type": "code",
   "execution_count": 63,
   "id": "cff46ab5",
   "metadata": {},
   "outputs": [],
   "source": [
    "# Create a crosstab between dependents and family status\n",
    "crosstab_fam_dep = pd.crosstab(custmrs['region'], custmrs['household_size'], dropna = False)"
   ]
  },
  {
   "cell_type": "code",
   "execution_count": 64,
   "id": "2196bc71",
   "metadata": {},
   "outputs": [
    {
     "data": {
      "text/html": [
       "<div>\n",
       "<style scoped>\n",
       "    .dataframe tbody tr th:only-of-type {\n",
       "        vertical-align: middle;\n",
       "    }\n",
       "\n",
       "    .dataframe tbody tr th {\n",
       "        vertical-align: top;\n",
       "    }\n",
       "\n",
       "    .dataframe thead th {\n",
       "        text-align: right;\n",
       "    }\n",
       "</style>\n",
       "<table border=\"1\" class=\"dataframe\">\n",
       "  <thead>\n",
       "    <tr style=\"text-align: right;\">\n",
       "      <th>household_size</th>\n",
       "      <th>Large Household</th>\n",
       "      <th>Medium Household</th>\n",
       "      <th>Single Household</th>\n",
       "    </tr>\n",
       "    <tr>\n",
       "      <th>region</th>\n",
       "      <th></th>\n",
       "      <th></th>\n",
       "      <th></th>\n",
       "    </tr>\n",
       "  </thead>\n",
       "  <tbody>\n",
       "    <tr>\n",
       "      <th>Midwest</th>\n",
       "      <td>1787286</td>\n",
       "      <td>3651411</td>\n",
       "      <td>1822816</td>\n",
       "    </tr>\n",
       "    <tr>\n",
       "      <th>Northeast</th>\n",
       "      <td>1381233</td>\n",
       "      <td>2728970</td>\n",
       "      <td>1354482</td>\n",
       "    </tr>\n",
       "    <tr>\n",
       "      <th>South</th>\n",
       "      <td>2585864</td>\n",
       "      <td>5143342</td>\n",
       "      <td>2581933</td>\n",
       "    </tr>\n",
       "    <tr>\n",
       "      <th>West</th>\n",
       "      <td>2018133</td>\n",
       "      <td>3928644</td>\n",
       "      <td>1980450</td>\n",
       "    </tr>\n",
       "  </tbody>\n",
       "</table>\n",
       "</div>"
      ],
      "text/plain": [
       "household_size  Large Household  Medium Household  Single Household\n",
       "region                                                             \n",
       "Midwest                 1787286           3651411           1822816\n",
       "Northeast               1381233           2728970           1354482\n",
       "South                   2585864           5143342           2581933\n",
       "West                    2018133           3928644           1980450"
      ]
     },
     "execution_count": 64,
     "metadata": {},
     "output_type": "execute_result"
    }
   ],
   "source": [
    "crosstab_fam_dep"
   ]
  },
  {
   "cell_type": "markdown",
   "id": "53e08ced",
   "metadata": {},
   "source": [
    "#### Aggregate max, mean, min"
   ]
  },
  {
   "cell_type": "code",
   "execution_count": 65,
   "id": "be170de6",
   "metadata": {
    "scrolled": true
   },
   "outputs": [
    {
     "data": {
      "text/html": [
       "<div>\n",
       "<style scoped>\n",
       "    .dataframe tbody tr th:only-of-type {\n",
       "        vertical-align: middle;\n",
       "    }\n",
       "\n",
       "    .dataframe tbody tr th {\n",
       "        vertical-align: top;\n",
       "    }\n",
       "\n",
       "    .dataframe thead tr th {\n",
       "        text-align: left;\n",
       "    }\n",
       "\n",
       "    .dataframe thead tr:last-of-type th {\n",
       "        text-align: right;\n",
       "    }\n",
       "</style>\n",
       "<table border=\"1\" class=\"dataframe\">\n",
       "  <thead>\n",
       "    <tr>\n",
       "      <th></th>\n",
       "      <th colspan=\"3\" halign=\"left\">prices</th>\n",
       "    </tr>\n",
       "    <tr>\n",
       "      <th></th>\n",
       "      <th>mean</th>\n",
       "      <th>min</th>\n",
       "      <th>max</th>\n",
       "    </tr>\n",
       "    <tr>\n",
       "      <th>household_size</th>\n",
       "      <th></th>\n",
       "      <th></th>\n",
       "      <th></th>\n",
       "    </tr>\n",
       "  </thead>\n",
       "  <tbody>\n",
       "    <tr>\n",
       "      <th>Large Household</th>\n",
       "      <td>7.792076</td>\n",
       "      <td>1.0</td>\n",
       "      <td>25.0</td>\n",
       "    </tr>\n",
       "    <tr>\n",
       "      <th>Medium Household</th>\n",
       "      <td>7.789111</td>\n",
       "      <td>1.0</td>\n",
       "      <td>25.0</td>\n",
       "    </tr>\n",
       "    <tr>\n",
       "      <th>Single Household</th>\n",
       "      <td>7.788800</td>\n",
       "      <td>1.0</td>\n",
       "      <td>25.0</td>\n",
       "    </tr>\n",
       "  </tbody>\n",
       "</table>\n",
       "</div>"
      ],
      "text/plain": [
       "                    prices           \n",
       "                      mean  min   max\n",
       "household_size                       \n",
       "Large Household   7.792076  1.0  25.0\n",
       "Medium Household  7.789111  1.0  25.0\n",
       "Single Household  7.788800  1.0  25.0"
      ]
     },
     "execution_count": 65,
     "metadata": {},
     "output_type": "execute_result"
    }
   ],
   "source": [
    "#Household category expenditure aggregation\n",
    "custmrs.groupby('household_size').agg({'prices' : ['mean', 'min', 'max']})"
   ]
  },
  {
   "cell_type": "code",
   "execution_count": 66,
   "id": "9b5543ea",
   "metadata": {},
   "outputs": [
    {
     "data": {
      "text/html": [
       "<div>\n",
       "<style scoped>\n",
       "    .dataframe tbody tr th:only-of-type {\n",
       "        vertical-align: middle;\n",
       "    }\n",
       "\n",
       "    .dataframe tbody tr th {\n",
       "        vertical-align: top;\n",
       "    }\n",
       "\n",
       "    .dataframe thead tr th {\n",
       "        text-align: left;\n",
       "    }\n",
       "\n",
       "    .dataframe thead tr:last-of-type th {\n",
       "        text-align: right;\n",
       "    }\n",
       "</style>\n",
       "<table border=\"1\" class=\"dataframe\">\n",
       "  <thead>\n",
       "    <tr>\n",
       "      <th></th>\n",
       "      <th colspan=\"3\" halign=\"left\">add_to_cart_order</th>\n",
       "    </tr>\n",
       "    <tr>\n",
       "      <th></th>\n",
       "      <th>mean</th>\n",
       "      <th>min</th>\n",
       "      <th>max</th>\n",
       "    </tr>\n",
       "    <tr>\n",
       "      <th>household_size</th>\n",
       "      <th></th>\n",
       "      <th></th>\n",
       "      <th></th>\n",
       "    </tr>\n",
       "  </thead>\n",
       "  <tbody>\n",
       "    <tr>\n",
       "      <th>Large Household</th>\n",
       "      <td>8.375061</td>\n",
       "      <td>1</td>\n",
       "      <td>145</td>\n",
       "    </tr>\n",
       "    <tr>\n",
       "      <th>Medium Household</th>\n",
       "      <td>8.370250</td>\n",
       "      <td>1</td>\n",
       "      <td>114</td>\n",
       "    </tr>\n",
       "    <tr>\n",
       "      <th>Single Household</th>\n",
       "      <td>8.336567</td>\n",
       "      <td>1</td>\n",
       "      <td>137</td>\n",
       "    </tr>\n",
       "  </tbody>\n",
       "</table>\n",
       "</div>"
      ],
      "text/plain": [
       "                 add_to_cart_order         \n",
       "                              mean min  max\n",
       "household_size                             \n",
       "Large Household           8.375061   1  145\n",
       "Medium Household          8.370250   1  114\n",
       "Single Household          8.336567   1  137"
      ]
     },
     "execution_count": 66,
     "metadata": {},
     "output_type": "execute_result"
    }
   ],
   "source": [
    "#income category frequency aggregation\n",
    "custmrs.groupby('household_size').agg({'add_to_cart_order' : ['mean', 'min', 'max']})"
   ]
  },
  {
   "cell_type": "markdown",
   "id": "3d3fd6f9",
   "metadata": {},
   "source": [
    "#### Compare profile across departments"
   ]
  },
  {
   "cell_type": "code",
   "execution_count": 67,
   "id": "7e924e72",
   "metadata": {},
   "outputs": [
    {
     "data": {
      "text/html": [
       "<div>\n",
       "<style scoped>\n",
       "    .dataframe tbody tr th:only-of-type {\n",
       "        vertical-align: middle;\n",
       "    }\n",
       "\n",
       "    .dataframe tbody tr th {\n",
       "        vertical-align: top;\n",
       "    }\n",
       "\n",
       "    .dataframe thead th {\n",
       "        text-align: right;\n",
       "    }\n",
       "</style>\n",
       "<table border=\"1\" class=\"dataframe\">\n",
       "  <thead>\n",
       "    <tr style=\"text-align: right;\">\n",
       "      <th>household_size</th>\n",
       "      <th>Large Household</th>\n",
       "      <th>Medium Household</th>\n",
       "      <th>Single Household</th>\n",
       "    </tr>\n",
       "    <tr>\n",
       "      <th>department</th>\n",
       "      <th></th>\n",
       "      <th></th>\n",
       "      <th></th>\n",
       "    </tr>\n",
       "  </thead>\n",
       "  <tbody>\n",
       "    <tr>\n",
       "      <th>alcohol</th>\n",
       "      <td>0.004803</td>\n",
       "      <td>0.004560</td>\n",
       "      <td>0.004758</td>\n",
       "    </tr>\n",
       "    <tr>\n",
       "      <th>babies</th>\n",
       "      <td>0.013198</td>\n",
       "      <td>0.013233</td>\n",
       "      <td>0.013350</td>\n",
       "    </tr>\n",
       "    <tr>\n",
       "      <th>bakery</th>\n",
       "      <td>0.036001</td>\n",
       "      <td>0.036215</td>\n",
       "      <td>0.036357</td>\n",
       "    </tr>\n",
       "    <tr>\n",
       "      <th>beverages</th>\n",
       "      <td>0.082461</td>\n",
       "      <td>0.083200</td>\n",
       "      <td>0.083381</td>\n",
       "    </tr>\n",
       "    <tr>\n",
       "      <th>breakfast</th>\n",
       "      <td>0.021527</td>\n",
       "      <td>0.021815</td>\n",
       "      <td>0.021504</td>\n",
       "    </tr>\n",
       "    <tr>\n",
       "      <th>bulk</th>\n",
       "      <td>0.001081</td>\n",
       "      <td>0.001103</td>\n",
       "      <td>0.001034</td>\n",
       "    </tr>\n",
       "    <tr>\n",
       "      <th>canned goods</th>\n",
       "      <td>0.032850</td>\n",
       "      <td>0.032728</td>\n",
       "      <td>0.032433</td>\n",
       "    </tr>\n",
       "    <tr>\n",
       "      <th>dairy eggs</th>\n",
       "      <td>0.166775</td>\n",
       "      <td>0.167388</td>\n",
       "      <td>0.167239</td>\n",
       "    </tr>\n",
       "    <tr>\n",
       "      <th>deli</th>\n",
       "      <td>0.032498</td>\n",
       "      <td>0.032219</td>\n",
       "      <td>0.032738</td>\n",
       "    </tr>\n",
       "    <tr>\n",
       "      <th>dry goods pasta</th>\n",
       "      <td>0.026814</td>\n",
       "      <td>0.026496</td>\n",
       "      <td>0.026396</td>\n",
       "    </tr>\n",
       "    <tr>\n",
       "      <th>frozen</th>\n",
       "      <td>0.068499</td>\n",
       "      <td>0.068596</td>\n",
       "      <td>0.068394</td>\n",
       "    </tr>\n",
       "    <tr>\n",
       "      <th>household</th>\n",
       "      <td>0.022680</td>\n",
       "      <td>0.022794</td>\n",
       "      <td>0.022140</td>\n",
       "    </tr>\n",
       "    <tr>\n",
       "      <th>international</th>\n",
       "      <td>0.008166</td>\n",
       "      <td>0.008287</td>\n",
       "      <td>0.008329</td>\n",
       "    </tr>\n",
       "    <tr>\n",
       "      <th>meat seafood</th>\n",
       "      <td>0.022055</td>\n",
       "      <td>0.021840</td>\n",
       "      <td>0.021432</td>\n",
       "    </tr>\n",
       "    <tr>\n",
       "      <th>missing</th>\n",
       "      <td>0.002115</td>\n",
       "      <td>0.002097</td>\n",
       "      <td>0.002059</td>\n",
       "    </tr>\n",
       "    <tr>\n",
       "      <th>other</th>\n",
       "      <td>0.001078</td>\n",
       "      <td>0.001121</td>\n",
       "      <td>0.001126</td>\n",
       "    </tr>\n",
       "    <tr>\n",
       "      <th>pantry</th>\n",
       "      <td>0.057402</td>\n",
       "      <td>0.057768</td>\n",
       "      <td>0.057354</td>\n",
       "    </tr>\n",
       "    <tr>\n",
       "      <th>personal care</th>\n",
       "      <td>0.013678</td>\n",
       "      <td>0.013706</td>\n",
       "      <td>0.013722</td>\n",
       "    </tr>\n",
       "    <tr>\n",
       "      <th>pets</th>\n",
       "      <td>0.002977</td>\n",
       "      <td>0.002997</td>\n",
       "      <td>0.003049</td>\n",
       "    </tr>\n",
       "    <tr>\n",
       "      <th>produce</th>\n",
       "      <td>0.294334</td>\n",
       "      <td>0.292260</td>\n",
       "      <td>0.293997</td>\n",
       "    </tr>\n",
       "    <tr>\n",
       "      <th>snacks</th>\n",
       "      <td>0.089006</td>\n",
       "      <td>0.089577</td>\n",
       "      <td>0.089208</td>\n",
       "    </tr>\n",
       "  </tbody>\n",
       "</table>\n",
       "</div>"
      ],
      "text/plain": [
       "household_size   Large Household  Medium Household  Single Household\n",
       "department                                                          \n",
       "alcohol                 0.004803          0.004560          0.004758\n",
       "babies                  0.013198          0.013233          0.013350\n",
       "bakery                  0.036001          0.036215          0.036357\n",
       "beverages               0.082461          0.083200          0.083381\n",
       "breakfast               0.021527          0.021815          0.021504\n",
       "bulk                    0.001081          0.001103          0.001034\n",
       "canned goods            0.032850          0.032728          0.032433\n",
       "dairy eggs              0.166775          0.167388          0.167239\n",
       "deli                    0.032498          0.032219          0.032738\n",
       "dry goods pasta         0.026814          0.026496          0.026396\n",
       "frozen                  0.068499          0.068596          0.068394\n",
       "household               0.022680          0.022794          0.022140\n",
       "international           0.008166          0.008287          0.008329\n",
       "meat seafood            0.022055          0.021840          0.021432\n",
       "missing                 0.002115          0.002097          0.002059\n",
       "other                   0.001078          0.001121          0.001126\n",
       "pantry                  0.057402          0.057768          0.057354\n",
       "personal care           0.013678          0.013706          0.013722\n",
       "pets                    0.002977          0.002997          0.003049\n",
       "produce                 0.294334          0.292260          0.293997\n",
       "snacks                  0.089006          0.089577          0.089208"
      ]
     },
     "execution_count": 67,
     "metadata": {},
     "output_type": "execute_result"
    }
   ],
   "source": [
    "# Compare Household size categories across departments\n",
    "ct_income_department = pd.crosstab(custmrs['department'], custmrs['household_size'], dropna = False, normalize = 'columns')\n",
    "ct_income_department"
   ]
  },
  {
   "cell_type": "markdown",
   "id": "a020630d",
   "metadata": {},
   "source": [
    "#### Create a suitable chart"
   ]
  },
  {
   "cell_type": "code",
   "execution_count": 68,
   "id": "bf2af55c",
   "metadata": {},
   "outputs": [
    {
     "data": {
      "text/plain": [
       "Text(0.5, 0, 'Regions')"
      ]
     },
     "execution_count": 68,
     "metadata": {},
     "output_type": "execute_result"
    },
    {
     "data": {
      "image/png": "[encoded data removed]",
      "text/plain": [
       "<Figure size 640x480 with 1 Axes>"
      ]
     },
     "metadata": {},
     "output_type": "display_data"
    }
   ],
   "source": [
    "# Bar chart for Household sizes across regions\n",
    "bar_chart_dependant_by_region = crosstab_fam_dep.plot (kind='bar', rot = 0, color = ['grey', 'blue', 'pink'])\n",
    "bar_chart_dependant_by_region.legend(title = 'Households', bbox_to_anchor = (1, 1.02), loc = 'upper left')\n",
    "plt.title('Household Sizes Across Regions', fontsize = 20)\n",
    "plt.ylabel('Frequency (in millions)')\n",
    "plt.xlabel('Regions')"
   ]
  },
  {
   "cell_type": "markdown",
   "id": "8b1e34e0",
   "metadata": {},
   "source": [
    "### Are there differences in ordering habits based on a customer's loyalty status?"
   ]
  },
  {
   "cell_type": "code",
   "execution_count": 69,
   "id": "bef5cef9",
   "metadata": {},
   "outputs": [
    {
     "data": {
      "text/html": [
       "<div>\n",
       "<style scoped>\n",
       "    .dataframe tbody tr th:only-of-type {\n",
       "        vertical-align: middle;\n",
       "    }\n",
       "\n",
       "    .dataframe tbody tr th {\n",
       "        vertical-align: top;\n",
       "    }\n",
       "\n",
       "    .dataframe thead th {\n",
       "        text-align: right;\n",
       "    }\n",
       "</style>\n",
       "<table border=\"1\" class=\"dataframe\">\n",
       "  <thead>\n",
       "    <tr style=\"text-align: right;\">\n",
       "      <th>loyalty_flag</th>\n",
       "      <th>Loyal customer</th>\n",
       "      <th>New customer</th>\n",
       "      <th>Regular customer</th>\n",
       "    </tr>\n",
       "    <tr>\n",
       "      <th>orders_day_of_week</th>\n",
       "      <th></th>\n",
       "      <th></th>\n",
       "      <th></th>\n",
       "    </tr>\n",
       "  </thead>\n",
       "  <tbody>\n",
       "    <tr>\n",
       "      <th>0</th>\n",
       "      <td>1754731</td>\n",
       "      <td>984879</td>\n",
       "      <td>3169000</td>\n",
       "    </tr>\n",
       "    <tr>\n",
       "      <th>1</th>\n",
       "      <td>1843401</td>\n",
       "      <td>818902</td>\n",
       "      <td>2749383</td>\n",
       "    </tr>\n",
       "    <tr>\n",
       "      <th>2</th>\n",
       "      <td>1352343</td>\n",
       "      <td>625288</td>\n",
       "      <td>2047075</td>\n",
       "    </tr>\n",
       "    <tr>\n",
       "      <th>3</th>\n",
       "      <td>1266495</td>\n",
       "      <td>560418</td>\n",
       "      <td>1842622</td>\n",
       "    </tr>\n",
       "    <tr>\n",
       "      <th>4</th>\n",
       "      <td>1292042</td>\n",
       "      <td>535931</td>\n",
       "      <td>1797021</td>\n",
       "    </tr>\n",
       "    <tr>\n",
       "      <th>5</th>\n",
       "      <td>1456715</td>\n",
       "      <td>587718</td>\n",
       "      <td>1989296</td>\n",
       "    </tr>\n",
       "    <tr>\n",
       "      <th>6</th>\n",
       "      <td>1318366</td>\n",
       "      <td>690559</td>\n",
       "      <td>2282379</td>\n",
       "    </tr>\n",
       "  </tbody>\n",
       "</table>\n",
       "</div>"
      ],
      "text/plain": [
       "loyalty_flag        Loyal customer  New customer  Regular customer\n",
       "orders_day_of_week                                                \n",
       "0                          1754731        984879           3169000\n",
       "1                          1843401        818902           2749383\n",
       "2                          1352343        625288           2047075\n",
       "3                          1266495        560418           1842622\n",
       "4                          1292042        535931           1797021\n",
       "5                          1456715        587718           1989296\n",
       "6                          1318366        690559           2282379"
      ]
     },
     "execution_count": 69,
     "metadata": {},
     "output_type": "execute_result"
    }
   ],
   "source": [
    "# Compare orders by region and dow\n",
    "loyalty_odow_crosstab = pd.crosstab(custmrs['orders_day_of_week'], custmrs['loyalty_flag'], dropna = False)\n",
    "loyalty_odow_crosstab"
   ]
  },
  {
   "cell_type": "code",
   "execution_count": 88,
   "id": "52bca69e",
   "metadata": {},
   "outputs": [
    {
     "data": {
      "text/plain": [
       "Text(0.5, 0, 'Day of Week')"
      ]
     },
     "execution_count": 88,
     "metadata": {},
     "output_type": "execute_result"
    },
    {
     "data": {
      "image/png": "[encoded data removed]",
      "text/plain": [
       "<Figure size 640x480 with 1 Axes>"
      ]
     },
     "metadata": {},
     "output_type": "display_data"
    }
   ],
   "source": [
    "# Create a stacked bar chart for region and dow\n",
    "bar_loyalty_odow = loyalty_odow_crosstab.plot(kind = 'bar', rot = 0,color = ['blue', 'grey', 'pink'])\n",
    "bar_loyalty_odow.legend(title = 'Region', bbox_to_anchor = (1, 1.02), loc = 'upper left')\n",
    "plt.title('Orders by Day and Region', fontsize = 20)\n",
    "plt.ylabel('Frequency (in millions)', fontsize = 12)\n",
    "plt.xlabel('Day of Week', fontsize = 12)"
   ]
  },
  {
   "cell_type": "markdown",
   "id": "c1f828e9",
   "metadata": {},
   "source": [
    "#### Is there a connection between age and family status in terms of ordering habits?"
   ]
  },
  {
   "cell_type": "code",
   "execution_count": 71,
   "id": "fd4c8f5c",
   "metadata": {},
   "outputs": [
    {
     "data": {
      "text/html": [
       "<div>\n",
       "<style scoped>\n",
       "    .dataframe tbody tr th:only-of-type {\n",
       "        vertical-align: middle;\n",
       "    }\n",
       "\n",
       "    .dataframe tbody tr th {\n",
       "        vertical-align: top;\n",
       "    }\n",
       "\n",
       "    .dataframe thead th {\n",
       "        text-align: right;\n",
       "    }\n",
       "</style>\n",
       "<table border=\"1\" class=\"dataframe\">\n",
       "  <thead>\n",
       "    <tr style=\"text-align: right;\">\n",
       "      <th>marital_status</th>\n",
       "      <th>divorced/widowed</th>\n",
       "      <th>living with parents and siblings</th>\n",
       "      <th>married</th>\n",
       "      <th>single</th>\n",
       "    </tr>\n",
       "    <tr>\n",
       "      <th>age_group</th>\n",
       "      <th></th>\n",
       "      <th></th>\n",
       "      <th></th>\n",
       "      <th></th>\n",
       "    </tr>\n",
       "  </thead>\n",
       "  <tbody>\n",
       "    <tr>\n",
       "      <th>Middle-Aged</th>\n",
       "      <td>623313</td>\n",
       "      <td>0</td>\n",
       "      <td>9046762</td>\n",
       "      <td>2433835</td>\n",
       "    </tr>\n",
       "    <tr>\n",
       "      <th>Senior</th>\n",
       "      <td>2021958</td>\n",
       "      <td>0</td>\n",
       "      <td>6173586</td>\n",
       "      <td>0</td>\n",
       "    </tr>\n",
       "    <tr>\n",
       "      <th>Young Adult</th>\n",
       "      <td>0</td>\n",
       "      <td>1481172</td>\n",
       "      <td>6523363</td>\n",
       "      <td>2660575</td>\n",
       "    </tr>\n",
       "  </tbody>\n",
       "</table>\n",
       "</div>"
      ],
      "text/plain": [
       "marital_status  divorced/widowed  living with parents and siblings  married  \\\n",
       "age_group                                                                     \n",
       "Middle-Aged               623313                                 0  9046762   \n",
       "Senior                   2021958                                 0  6173586   \n",
       "Young Adult                    0                           1481172  6523363   \n",
       "\n",
       "marital_status   single  \n",
       "age_group                \n",
       "Middle-Aged     2433835  \n",
       "Senior                0  \n",
       "Young Adult     2660575  "
      ]
     },
     "execution_count": 71,
     "metadata": {},
     "output_type": "execute_result"
    }
   ],
   "source": [
    "# Compare orders by age group and family status\n",
    "age_family_crosstab = pd.crosstab(custmrs['age_group'], custmrs['marital_status'], dropna = False)\n",
    "age_family_crosstab"
   ]
  },
  {
   "cell_type": "code",
   "execution_count": 86,
   "id": "5f6ffc2b",
   "metadata": {},
   "outputs": [
    {
     "data": {
      "text/plain": [
       "Text(0.5, 0, 'Age Group')"
      ]
     },
     "execution_count": 86,
     "metadata": {},
     "output_type": "execute_result"
    },
    {
     "data": {
      "image/png": "[encoded data removed]",
      "text/plain": [
       "<Figure size 640x480 with 1 Axes>"
      ]
     },
     "metadata": {},
     "output_type": "display_data"
    }
   ],
   "source": [
    "# Create a stacked bar chart for age and family status\n",
    "bar_age_family = age_family_crosstab.plot(kind = 'bar', rot = 0,color = ['blue', 'grey', 'pink', 'red'])\n",
    "bar_age_family.legend(title = 'Family Status', bbox_to_anchor = (1, 1.02), loc = 'upper left')\n",
    "plt.title('Orders by Age Group and Family Status', fontsize = 20)\n",
    "plt.ylabel('Frequency (in millions)', fontsize = 12)\n",
    "plt.xlabel('Age Group', fontsize = 12)"
   ]
  },
  {
   "cell_type": "code",
   "execution_count": 73,
   "id": "100cc0f6",
   "metadata": {},
   "outputs": [
    {
     "data": {
      "text/html": [
       "<div>\n",
       "<style scoped>\n",
       "    .dataframe tbody tr th:only-of-type {\n",
       "        vertical-align: middle;\n",
       "    }\n",
       "\n",
       "    .dataframe tbody tr th {\n",
       "        vertical-align: top;\n",
       "    }\n",
       "\n",
       "    .dataframe thead th {\n",
       "        text-align: right;\n",
       "    }\n",
       "</style>\n",
       "<table border=\"1\" class=\"dataframe\">\n",
       "  <thead>\n",
       "    <tr style=\"text-align: right;\">\n",
       "      <th>region</th>\n",
       "      <th>Midwest</th>\n",
       "      <th>Northeast</th>\n",
       "      <th>South</th>\n",
       "      <th>West</th>\n",
       "    </tr>\n",
       "    <tr>\n",
       "      <th>orders_day_of_week</th>\n",
       "      <th></th>\n",
       "      <th></th>\n",
       "      <th></th>\n",
       "      <th></th>\n",
       "    </tr>\n",
       "  </thead>\n",
       "  <tbody>\n",
       "    <tr>\n",
       "      <th>0</th>\n",
       "      <td>1390189</td>\n",
       "      <td>1043698</td>\n",
       "      <td>1955352</td>\n",
       "      <td>1519371</td>\n",
       "    </tr>\n",
       "    <tr>\n",
       "      <th>1</th>\n",
       "      <td>1263655</td>\n",
       "      <td>954332</td>\n",
       "      <td>1808348</td>\n",
       "      <td>1385351</td>\n",
       "    </tr>\n",
       "    <tr>\n",
       "      <th>2</th>\n",
       "      <td>947370</td>\n",
       "      <td>713159</td>\n",
       "      <td>1340387</td>\n",
       "      <td>1023790</td>\n",
       "    </tr>\n",
       "    <tr>\n",
       "      <th>3</th>\n",
       "      <td>855316</td>\n",
       "      <td>649305</td>\n",
       "      <td>1229002</td>\n",
       "      <td>935912</td>\n",
       "    </tr>\n",
       "    <tr>\n",
       "      <th>4</th>\n",
       "      <td>851501</td>\n",
       "      <td>637781</td>\n",
       "      <td>1205497</td>\n",
       "      <td>930215</td>\n",
       "    </tr>\n",
       "    <tr>\n",
       "      <th>5</th>\n",
       "      <td>943396</td>\n",
       "      <td>716128</td>\n",
       "      <td>1342849</td>\n",
       "      <td>1031356</td>\n",
       "    </tr>\n",
       "    <tr>\n",
       "      <th>6</th>\n",
       "      <td>1010086</td>\n",
       "      <td>750282</td>\n",
       "      <td>1429704</td>\n",
       "      <td>1101232</td>\n",
       "    </tr>\n",
       "  </tbody>\n",
       "</table>\n",
       "</div>"
      ],
      "text/plain": [
       "region              Midwest  Northeast    South     West\n",
       "orders_day_of_week                                      \n",
       "0                   1390189    1043698  1955352  1519371\n",
       "1                   1263655     954332  1808348  1385351\n",
       "2                    947370     713159  1340387  1023790\n",
       "3                    855316     649305  1229002   935912\n",
       "4                    851501     637781  1205497   930215\n",
       "5                    943396     716128  1342849  1031356\n",
       "6                   1010086     750282  1429704  1101232"
      ]
     },
     "execution_count": 73,
     "metadata": {},
     "output_type": "execute_result"
    }
   ],
   "source": [
    "# Compare orders by region and dow\n",
    "region_dow_crosstab = pd.crosstab(custmrs['orders_day_of_week'], custmrs['region'], dropna = False)\n",
    "region_dow_crosstab"
   ]
  },
  {
   "cell_type": "code",
   "execution_count": 87,
   "id": "d7d51be1",
   "metadata": {},
   "outputs": [
    {
     "data": {
      "text/plain": [
       "Text(0.5, 0, 'Day of Week')"
      ]
     },
     "execution_count": 87,
     "metadata": {},
     "output_type": "execute_result"
    },
    {
     "data": {
      "image/png": "[encoded data removed]",
      "text/plain": [
       "<Figure size 640x480 with 1 Axes>"
      ]
     },
     "metadata": {},
     "output_type": "display_data"
    }
   ],
   "source": [
    "# Create a stacked bar chart for region and dow\n",
    "bar_region_dow = region_dow_crosstab.plot(kind = 'bar', rot = 0,color = ['blue', 'grey', 'pink', 'red'])\n",
    "bar_region_dow.legend(title = 'Region', bbox_to_anchor = (1, 1.02), loc = 'upper left')\n",
    "plt.title('Orders by Day and Region', fontsize = 20)\n",
    "plt.ylabel('Frequency (in millions)', fontsize = 12)\n",
    "plt.xlabel('Day of Week', fontsize = 12)"
   ]
  },
  {
   "cell_type": "code",
   "execution_count": 75,
   "id": "0b574e47",
   "metadata": {},
   "outputs": [
    {
     "data": {
      "text/html": [
       "<div>\n",
       "<style scoped>\n",
       "    .dataframe tbody tr th:only-of-type {\n",
       "        vertical-align: middle;\n",
       "    }\n",
       "\n",
       "    .dataframe tbody tr th {\n",
       "        vertical-align: top;\n",
       "    }\n",
       "\n",
       "    .dataframe thead th {\n",
       "        text-align: right;\n",
       "    }\n",
       "</style>\n",
       "<table border=\"1\" class=\"dataframe\">\n",
       "  <thead>\n",
       "    <tr style=\"text-align: right;\">\n",
       "      <th>region</th>\n",
       "      <th>Midwest</th>\n",
       "      <th>Northeast</th>\n",
       "      <th>South</th>\n",
       "      <th>West</th>\n",
       "    </tr>\n",
       "    <tr>\n",
       "      <th>order_hour_of_day</th>\n",
       "      <th></th>\n",
       "      <th></th>\n",
       "      <th></th>\n",
       "      <th></th>\n",
       "    </tr>\n",
       "  </thead>\n",
       "  <tbody>\n",
       "    <tr>\n",
       "      <th>0</th>\n",
       "      <td>48192</td>\n",
       "      <td>36600</td>\n",
       "      <td>69767</td>\n",
       "      <td>53483</td>\n",
       "    </tr>\n",
       "    <tr>\n",
       "      <th>1</th>\n",
       "      <td>25879</td>\n",
       "      <td>20529</td>\n",
       "      <td>35769</td>\n",
       "      <td>27444</td>\n",
       "    </tr>\n",
       "    <tr>\n",
       "      <th>2</th>\n",
       "      <td>16136</td>\n",
       "      <td>11842</td>\n",
       "      <td>20668</td>\n",
       "      <td>17045</td>\n",
       "    </tr>\n",
       "    <tr>\n",
       "      <th>3</th>\n",
       "      <td>11298</td>\n",
       "      <td>8843</td>\n",
       "      <td>16458</td>\n",
       "      <td>12197</td>\n",
       "    </tr>\n",
       "    <tr>\n",
       "      <th>4</th>\n",
       "      <td>12015</td>\n",
       "      <td>9043</td>\n",
       "      <td>17277</td>\n",
       "      <td>12428</td>\n",
       "    </tr>\n",
       "    <tr>\n",
       "      <th>5</th>\n",
       "      <td>19061</td>\n",
       "      <td>14733</td>\n",
       "      <td>29571</td>\n",
       "      <td>21053</td>\n",
       "    </tr>\n",
       "    <tr>\n",
       "      <th>6</th>\n",
       "      <td>64885</td>\n",
       "      <td>49025</td>\n",
       "      <td>95583</td>\n",
       "      <td>71520</td>\n",
       "    </tr>\n",
       "    <tr>\n",
       "      <th>7</th>\n",
       "      <td>201794</td>\n",
       "      <td>154031</td>\n",
       "      <td>288357</td>\n",
       "      <td>219031</td>\n",
       "    </tr>\n",
       "    <tr>\n",
       "      <th>8</th>\n",
       "      <td>384854</td>\n",
       "      <td>294134</td>\n",
       "      <td>559785</td>\n",
       "      <td>420337</td>\n",
       "    </tr>\n",
       "    <tr>\n",
       "      <th>9</th>\n",
       "      <td>552468</td>\n",
       "      <td>414092</td>\n",
       "      <td>791570</td>\n",
       "      <td>605481</td>\n",
       "    </tr>\n",
       "    <tr>\n",
       "      <th>10</th>\n",
       "      <td>621555</td>\n",
       "      <td>464454</td>\n",
       "      <td>885590</td>\n",
       "      <td>678145</td>\n",
       "    </tr>\n",
       "    <tr>\n",
       "      <th>11</th>\n",
       "      <td>614330</td>\n",
       "      <td>461204</td>\n",
       "      <td>867995</td>\n",
       "      <td>671351</td>\n",
       "    </tr>\n",
       "    <tr>\n",
       "      <th>12</th>\n",
       "      <td>583145</td>\n",
       "      <td>443358</td>\n",
       "      <td>827945</td>\n",
       "      <td>641347</td>\n",
       "    </tr>\n",
       "    <tr>\n",
       "      <th>13</th>\n",
       "      <td>589852</td>\n",
       "      <td>450628</td>\n",
       "      <td>840883</td>\n",
       "      <td>657913</td>\n",
       "    </tr>\n",
       "    <tr>\n",
       "      <th>14</th>\n",
       "      <td>596442</td>\n",
       "      <td>454392</td>\n",
       "      <td>851916</td>\n",
       "      <td>665153</td>\n",
       "    </tr>\n",
       "    <tr>\n",
       "      <th>15</th>\n",
       "      <td>598686</td>\n",
       "      <td>447558</td>\n",
       "      <td>839925</td>\n",
       "      <td>649797</td>\n",
       "    </tr>\n",
       "    <tr>\n",
       "      <th>16</th>\n",
       "      <td>568750</td>\n",
       "      <td>424062</td>\n",
       "      <td>800862</td>\n",
       "      <td>620007</td>\n",
       "    </tr>\n",
       "    <tr>\n",
       "      <th>17</th>\n",
       "      <td>467191</td>\n",
       "      <td>348360</td>\n",
       "      <td>659238</td>\n",
       "      <td>507556</td>\n",
       "    </tr>\n",
       "    <tr>\n",
       "      <th>18</th>\n",
       "      <td>368875</td>\n",
       "      <td>272247</td>\n",
       "      <td>515725</td>\n",
       "      <td>394337</td>\n",
       "    </tr>\n",
       "    <tr>\n",
       "      <th>19</th>\n",
       "      <td>281563</td>\n",
       "      <td>207531</td>\n",
       "      <td>401485</td>\n",
       "      <td>303299</td>\n",
       "    </tr>\n",
       "    <tr>\n",
       "      <th>20</th>\n",
       "      <td>220518</td>\n",
       "      <td>162856</td>\n",
       "      <td>309210</td>\n",
       "      <td>238325</td>\n",
       "    </tr>\n",
       "    <tr>\n",
       "      <th>21</th>\n",
       "      <td>181038</td>\n",
       "      <td>134541</td>\n",
       "      <td>256209</td>\n",
       "      <td>191323</td>\n",
       "    </tr>\n",
       "    <tr>\n",
       "      <th>22</th>\n",
       "      <td>144637</td>\n",
       "      <td>108988</td>\n",
       "      <td>200322</td>\n",
       "      <td>153113</td>\n",
       "    </tr>\n",
       "    <tr>\n",
       "      <th>23</th>\n",
       "      <td>88349</td>\n",
       "      <td>71634</td>\n",
       "      <td>129029</td>\n",
       "      <td>95542</td>\n",
       "    </tr>\n",
       "  </tbody>\n",
       "</table>\n",
       "</div>"
      ],
      "text/plain": [
       "region             Midwest  Northeast   South    West\n",
       "order_hour_of_day                                    \n",
       "0                    48192      36600   69767   53483\n",
       "1                    25879      20529   35769   27444\n",
       "2                    16136      11842   20668   17045\n",
       "3                    11298       8843   16458   12197\n",
       "4                    12015       9043   17277   12428\n",
       "5                    19061      14733   29571   21053\n",
       "6                    64885      49025   95583   71520\n",
       "7                   201794     154031  288357  219031\n",
       "8                   384854     294134  559785  420337\n",
       "9                   552468     414092  791570  605481\n",
       "10                  621555     464454  885590  678145\n",
       "11                  614330     461204  867995  671351\n",
       "12                  583145     443358  827945  641347\n",
       "13                  589852     450628  840883  657913\n",
       "14                  596442     454392  851916  665153\n",
       "15                  598686     447558  839925  649797\n",
       "16                  568750     424062  800862  620007\n",
       "17                  467191     348360  659238  507556\n",
       "18                  368875     272247  515725  394337\n",
       "19                  281563     207531  401485  303299\n",
       "20                  220518     162856  309210  238325\n",
       "21                  181038     134541  256209  191323\n",
       "22                  144637     108988  200322  153113\n",
       "23                   88349      71634  129029   95542"
      ]
     },
     "execution_count": 75,
     "metadata": {},
     "output_type": "execute_result"
    }
   ],
   "source": [
    "region_ohod_crosstab = pd.crosstab(custmrs['order_hour_of_day'], custmrs['region'], dropna = False)\n",
    "region_ohod_crosstab"
   ]
  },
  {
   "cell_type": "code",
   "execution_count": 107,
   "id": "4420e22f",
   "metadata": {},
   "outputs": [
    {
     "data": {
      "text/plain": [
       "Text(0.5, 0, 'Day of Week')"
      ]
     },
     "execution_count": 107,
     "metadata": {},
     "output_type": "execute_result"
    },
    {
     "data": {
      "image/png": "[encoded data removed]",
      "text/plain": [
       "<Figure size 640x480 with 1 Axes>"
      ]
     },
     "metadata": {},
     "output_type": "display_data"
    }
   ],
   "source": [
    "# Create a stacked bar chart for region and dow\n",
    "bar_region_ohod = region_ohod_crosstab.plot(kind = 'bar', rot = 0, color = ['blue', 'grey', 'pink', 'red'])\n",
    "bar_region_ohod.legend(title = 'Region', bbox_to_anchor = (1, 1.02), loc = 'upper left')\n",
    "plt.title('Orders by Hour and Region', fontsize = 20)\n",
    "plt.ylabel('Frequency (in millions)', fontsize = 12)\n",
    "plt.xlabel('Day of Week', fontsize = 12)"
   ]
  },
  {
   "cell_type": "code",
   "execution_count": 108,
   "id": "36ac1bcf",
   "metadata": {},
   "outputs": [],
   "source": [
    "bar_region_ohod.figure.savefig(os.path.join(path_visual, 'bar_region_ohod.png'), bbox_inches = 'tight')"
   ]
  },
  {
   "cell_type": "code",
   "execution_count": 89,
   "id": "fc0bc284",
   "metadata": {},
   "outputs": [],
   "source": [
    "bar_region_dow.figure.savefig(os.path.join(path_visual, 'bar_region_dow.png'), bbox_inches = 'tight')"
   ]
  },
  {
   "cell_type": "code",
   "execution_count": 91,
   "id": "ca9e9bb4",
   "metadata": {},
   "outputs": [],
   "source": [
    "bar_age_family.figure.savefig(os.path.join(path_visual, 'bar_age_family.png'), bbox_inches = 'tight')"
   ]
  },
  {
   "cell_type": "code",
   "execution_count": 92,
   "id": "ceaf6066",
   "metadata": {},
   "outputs": [],
   "source": [
    "bar_departments.figure.savefig(os.path.join(path_visual, 'bar_departments.png'), bbox_inches = 'tight')"
   ]
  },
  {
   "cell_type": "code",
   "execution_count": 93,
   "id": "007fccf9",
   "metadata": {},
   "outputs": [],
   "source": [
    "age_category_pie.figure.savefig(os.path.join(path_visual, 'age_category_pie.png'), bbox_inches = 'tight')"
   ]
  },
  {
   "cell_type": "code",
   "execution_count": 102,
   "id": "1be4c4e4",
   "metadata": {},
   "outputs": [],
   "source": [
    "bar_chart_age_by_region.figure.savefig(os.path.join(path_visual, 'bar_chart_age_by_region.png'), bbox_inches = 'tight')"
   ]
  },
  {
   "cell_type": "code",
   "execution_count": 103,
   "id": "83cf15ca",
   "metadata": {},
   "outputs": [],
   "source": [
    "alcohol_purchase_pie.figure.savefig(os.path.join(path_visual, 'alcohol_purchase_pie.png'), bbox_inches = 'tight')"
   ]
  },
  {
   "cell_type": "code",
   "execution_count": 95,
   "id": "3c21f2ba",
   "metadata": {},
   "outputs": [],
   "source": [
    "certain_good_regions_chart.figure.savefig(os.path.join(path_visual, 'certain_good_regions_chart.png'), bbox_inches = 'tight')"
   ]
  },
  {
   "cell_type": "code",
   "execution_count": 96,
   "id": "dfd3586f",
   "metadata": {},
   "outputs": [],
   "source": [
    "income_category_pie.figure.savefig(os.path.join(path_visual, 'income_category_pie.png'), bbox_inches = 'tight')"
   ]
  },
  {
   "cell_type": "code",
   "execution_count": 97,
   "id": "a4e47957",
   "metadata": {},
   "outputs": [],
   "source": [
    "bar_chart_income_by_region.figure.savefig(os.path.join(path_visual, 'bar_chart_income_by_region.png'), bbox_inches = 'tight')"
   ]
  },
  {
   "cell_type": "code",
   "execution_count": 110,
   "id": "4cfc02c4",
   "metadata": {},
   "outputs": [],
   "source": [
    "dependents_category_pie.figure.savefig(os.path.join(path_visual, 'dependents_category_pie.png'), bbox_inches = 'tight')"
   ]
  },
  {
   "cell_type": "code",
   "execution_count": 99,
   "id": "4448d003",
   "metadata": {},
   "outputs": [],
   "source": [
    "bar_chart_dependant_by_region.figure.savefig(os.path.join(path_visual, 'bar_chart_dependant_by_region.png'), bbox_inches = 'tight')"
   ]
  },
  {
   "cell_type": "code",
   "execution_count": 100,
   "id": "8c86188b",
   "metadata": {},
   "outputs": [],
   "source": [
    "bar_loyalty_odow.figure.savefig(os.path.join(path_visual, 'bar_loyalty_odow.png'), bbox_inches = 'tight')"
   ]
  },
  {
   "cell_type": "code",
   "execution_count": 101,
   "id": "59fa2942",
   "metadata": {},
   "outputs": [],
   "source": [
    "bar_age_family.figure.savefig(os.path.join(path_visual, 'bar_age_family.png'), bbox_inches = 'tight')"
   ]
  },
  {
   "cell_type": "code",
   "execution_count": null,
   "id": "bab7556b",
   "metadata": {},
   "outputs": [],
   "source": []
  },
  {
   "cell_type": "code",
   "execution_count": 106,
   "id": "eeeab410",
   "metadata": {},
   "outputs": [],
   "source": [
    "ords_prods_all.to_pickle(os.path.join(path, '02 Data', 'Prepared Data', 'instacart_customers_4-25.pkl'))"
   ]
  },
  {
   "cell_type": "code",
   "execution_count": null,
   "id": "37828766",
   "metadata": {},
   "outputs": [],
   "source": []
  }
 ],
 "metadata": {
  "kernelspec": {
   "display_name": "Python 3 (ipykernel)",
   "language": "python",
   "name": "python3"
  },
  "language_info": {
   "codemirror_mode": {
    "name": "ipython",
    "version": 3
   },
   "file_extension": ".py",
   "mimetype": "text/x-python",
   "name": "python",
   "nbconvert_exporter": "python",
   "pygments_lexer": "ipython3",
   "version": "3.9.13"
  }
 },
 "nbformat": 4,
 "nbformat_minor": 5
}
